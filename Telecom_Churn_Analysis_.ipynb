{
  "nbformat": 4,
  "nbformat_minor": 0,
  "metadata": {
    "kernelspec": {
      "display_name": "Python 3",
      "language": "python",
      "name": "python3"
    },
    "language_info": {
      "codemirror_mode": {
        "name": "ipython",
        "version": 3
      },
      "file_extension": ".py",
      "mimetype": "text/x-python",
      "name": "python",
      "nbconvert_exporter": "python",
      "pygments_lexer": "ipython3",
      "version": "3.6.6"
    },
    "colab": {
      "name": "Telecom Churn Analysis .ipynb",
      "provenance": [],
      "collapsed_sections": [],
      "include_colab_link": true
    }
  },
  "cells": [
    {
      "cell_type": "markdown",
      "metadata": {
        "id": "view-in-github",
        "colab_type": "text"
      },
      "source": [
        "<a href=\"https://colab.research.google.com/github/Gauravgade3/Telecom-Churn-Analysis/blob/main/Telecom_Churn_Analysis_.ipynb\" target=\"_parent\"><img src=\"https://colab.research.google.com/assets/colab-badge.svg\" alt=\"Open In Colab\"/></a>"
      ]
    },
    {
      "cell_type": "markdown",
      "metadata": {
        "id": "Y06xIdG26kRF"
      },
      "source": [
        "## <b> Orange S.A., formerly France Télécom S.A., is a French multinational telecommunications corporation. The Orange Telecom's Churn Dataset, consists of cleaned customer activity data (features), along with a churn label specifying whether a customer canceled the subscription.\n",
        "\n",
        "## <b> Explore and analyze the data to discover key factors responsible for customer churn and come up with ways/recommendations to ensure customer retention. </b>"
      ]
    },
    {
      "cell_type": "markdown",
      "source": [
        "# **Introduction**\n"
      ],
      "metadata": {
        "id": "E0jiG1kUJYnb"
      }
    },
    {
      "cell_type": "markdown",
      "source": [
        "**Why are the customers changes their telecom operator? How can we make long time business with customers? Which type of plans customers loves the most? And Why? Let us Explore, Analyze, and Find out the reasons.**"
      ],
      "metadata": {
        "id": "UQPX-L5HK5E6"
      }
    },
    {
      "cell_type": "code",
      "source": [
        "# Mounting the drive\n",
        "from google.colab import drive\n",
        "drive.mount('/content/drive')"
      ],
      "metadata": {
        "colab": {
          "base_uri": "https://localhost:8080/"
        },
        "id": "CLUA7HCS5CRM",
        "outputId": "6b5187e7-fbdc-4ab6-ca29-9c728d2d2cb3"
      },
      "execution_count": null,
      "outputs": [
        {
          "output_type": "stream",
          "name": "stdout",
          "text": [
            "Mounted at /content/drive\n"
          ]
        }
      ]
    },
    {
      "cell_type": "code",
      "source": [
        "# Importing some necessary libraries\n",
        "import numpy as np\n",
        "import pandas as pd\n",
        "import matplotlib.pyplot as plt\n",
        "import seaborn as sns\n",
        "%matplotlib inline"
      ],
      "metadata": {
        "id": "qocWv-r_5PiF"
      },
      "execution_count": null,
      "outputs": []
    },
    {
      "cell_type": "code",
      "source": [
        "# Reading the CSV file of dataset\n",
        "df=pd.read_csv('/content/drive/MyDrive/Almabetter/Copy of Telecom Churn.csv')"
      ],
      "metadata": {
        "id": "4s2xKqvg5EKZ"
      },
      "execution_count": null,
      "outputs": []
    },
    {
      "cell_type": "markdown",
      "source": [
        "# **Explore The Dataset**"
      ],
      "metadata": {
        "id": "VlVRosTVLjDr"
      }
    },
    {
      "cell_type": "code",
      "source": [
        "# Checking the first 10 rows\n",
        "df.head(10)"
      ],
      "metadata": {
        "colab": {
          "base_uri": "https://localhost:8080/",
          "height": 442
        },
        "id": "jIDcacs16Am2",
        "outputId": "23a5b5b3-ac2e-4b10-d250-8b77211819b8"
      },
      "execution_count": null,
      "outputs": [
        {
          "output_type": "execute_result",
          "data": {
            "text/html": [
              "\n",
              "  <div id=\"df-6dc8ee0d-2063-4b11-a2e5-632d25b9fca1\">\n",
              "    <div class=\"colab-df-container\">\n",
              "      <div>\n",
              "<style scoped>\n",
              "    .dataframe tbody tr th:only-of-type {\n",
              "        vertical-align: middle;\n",
              "    }\n",
              "\n",
              "    .dataframe tbody tr th {\n",
              "        vertical-align: top;\n",
              "    }\n",
              "\n",
              "    .dataframe thead th {\n",
              "        text-align: right;\n",
              "    }\n",
              "</style>\n",
              "<table border=\"1\" class=\"dataframe\">\n",
              "  <thead>\n",
              "    <tr style=\"text-align: right;\">\n",
              "      <th></th>\n",
              "      <th>State</th>\n",
              "      <th>Account length</th>\n",
              "      <th>Area code</th>\n",
              "      <th>International plan</th>\n",
              "      <th>Voice mail plan</th>\n",
              "      <th>Number vmail messages</th>\n",
              "      <th>Total day minutes</th>\n",
              "      <th>Total day calls</th>\n",
              "      <th>Total day charge</th>\n",
              "      <th>Total eve minutes</th>\n",
              "      <th>Total eve calls</th>\n",
              "      <th>Total eve charge</th>\n",
              "      <th>Total night minutes</th>\n",
              "      <th>Total night calls</th>\n",
              "      <th>Total night charge</th>\n",
              "      <th>Total intl minutes</th>\n",
              "      <th>Total intl calls</th>\n",
              "      <th>Total intl charge</th>\n",
              "      <th>Customer service calls</th>\n",
              "      <th>Churn</th>\n",
              "    </tr>\n",
              "  </thead>\n",
              "  <tbody>\n",
              "    <tr>\n",
              "      <th>0</th>\n",
              "      <td>KS</td>\n",
              "      <td>128</td>\n",
              "      <td>415</td>\n",
              "      <td>No</td>\n",
              "      <td>Yes</td>\n",
              "      <td>25</td>\n",
              "      <td>265.1</td>\n",
              "      <td>110</td>\n",
              "      <td>45.07</td>\n",
              "      <td>197.4</td>\n",
              "      <td>99</td>\n",
              "      <td>16.78</td>\n",
              "      <td>244.7</td>\n",
              "      <td>91</td>\n",
              "      <td>11.01</td>\n",
              "      <td>10.0</td>\n",
              "      <td>3</td>\n",
              "      <td>2.70</td>\n",
              "      <td>1</td>\n",
              "      <td>False</td>\n",
              "    </tr>\n",
              "    <tr>\n",
              "      <th>1</th>\n",
              "      <td>OH</td>\n",
              "      <td>107</td>\n",
              "      <td>415</td>\n",
              "      <td>No</td>\n",
              "      <td>Yes</td>\n",
              "      <td>26</td>\n",
              "      <td>161.6</td>\n",
              "      <td>123</td>\n",
              "      <td>27.47</td>\n",
              "      <td>195.5</td>\n",
              "      <td>103</td>\n",
              "      <td>16.62</td>\n",
              "      <td>254.4</td>\n",
              "      <td>103</td>\n",
              "      <td>11.45</td>\n",
              "      <td>13.7</td>\n",
              "      <td>3</td>\n",
              "      <td>3.70</td>\n",
              "      <td>1</td>\n",
              "      <td>False</td>\n",
              "    </tr>\n",
              "    <tr>\n",
              "      <th>2</th>\n",
              "      <td>NJ</td>\n",
              "      <td>137</td>\n",
              "      <td>415</td>\n",
              "      <td>No</td>\n",
              "      <td>No</td>\n",
              "      <td>0</td>\n",
              "      <td>243.4</td>\n",
              "      <td>114</td>\n",
              "      <td>41.38</td>\n",
              "      <td>121.2</td>\n",
              "      <td>110</td>\n",
              "      <td>10.30</td>\n",
              "      <td>162.6</td>\n",
              "      <td>104</td>\n",
              "      <td>7.32</td>\n",
              "      <td>12.2</td>\n",
              "      <td>5</td>\n",
              "      <td>3.29</td>\n",
              "      <td>0</td>\n",
              "      <td>False</td>\n",
              "    </tr>\n",
              "    <tr>\n",
              "      <th>3</th>\n",
              "      <td>OH</td>\n",
              "      <td>84</td>\n",
              "      <td>408</td>\n",
              "      <td>Yes</td>\n",
              "      <td>No</td>\n",
              "      <td>0</td>\n",
              "      <td>299.4</td>\n",
              "      <td>71</td>\n",
              "      <td>50.90</td>\n",
              "      <td>61.9</td>\n",
              "      <td>88</td>\n",
              "      <td>5.26</td>\n",
              "      <td>196.9</td>\n",
              "      <td>89</td>\n",
              "      <td>8.86</td>\n",
              "      <td>6.6</td>\n",
              "      <td>7</td>\n",
              "      <td>1.78</td>\n",
              "      <td>2</td>\n",
              "      <td>False</td>\n",
              "    </tr>\n",
              "    <tr>\n",
              "      <th>4</th>\n",
              "      <td>OK</td>\n",
              "      <td>75</td>\n",
              "      <td>415</td>\n",
              "      <td>Yes</td>\n",
              "      <td>No</td>\n",
              "      <td>0</td>\n",
              "      <td>166.7</td>\n",
              "      <td>113</td>\n",
              "      <td>28.34</td>\n",
              "      <td>148.3</td>\n",
              "      <td>122</td>\n",
              "      <td>12.61</td>\n",
              "      <td>186.9</td>\n",
              "      <td>121</td>\n",
              "      <td>8.41</td>\n",
              "      <td>10.1</td>\n",
              "      <td>3</td>\n",
              "      <td>2.73</td>\n",
              "      <td>3</td>\n",
              "      <td>False</td>\n",
              "    </tr>\n",
              "    <tr>\n",
              "      <th>5</th>\n",
              "      <td>AL</td>\n",
              "      <td>118</td>\n",
              "      <td>510</td>\n",
              "      <td>Yes</td>\n",
              "      <td>No</td>\n",
              "      <td>0</td>\n",
              "      <td>223.4</td>\n",
              "      <td>98</td>\n",
              "      <td>37.98</td>\n",
              "      <td>220.6</td>\n",
              "      <td>101</td>\n",
              "      <td>18.75</td>\n",
              "      <td>203.9</td>\n",
              "      <td>118</td>\n",
              "      <td>9.18</td>\n",
              "      <td>6.3</td>\n",
              "      <td>6</td>\n",
              "      <td>1.70</td>\n",
              "      <td>0</td>\n",
              "      <td>False</td>\n",
              "    </tr>\n",
              "    <tr>\n",
              "      <th>6</th>\n",
              "      <td>MA</td>\n",
              "      <td>121</td>\n",
              "      <td>510</td>\n",
              "      <td>No</td>\n",
              "      <td>Yes</td>\n",
              "      <td>24</td>\n",
              "      <td>218.2</td>\n",
              "      <td>88</td>\n",
              "      <td>37.09</td>\n",
              "      <td>348.5</td>\n",
              "      <td>108</td>\n",
              "      <td>29.62</td>\n",
              "      <td>212.6</td>\n",
              "      <td>118</td>\n",
              "      <td>9.57</td>\n",
              "      <td>7.5</td>\n",
              "      <td>7</td>\n",
              "      <td>2.03</td>\n",
              "      <td>3</td>\n",
              "      <td>False</td>\n",
              "    </tr>\n",
              "    <tr>\n",
              "      <th>7</th>\n",
              "      <td>MO</td>\n",
              "      <td>147</td>\n",
              "      <td>415</td>\n",
              "      <td>Yes</td>\n",
              "      <td>No</td>\n",
              "      <td>0</td>\n",
              "      <td>157.0</td>\n",
              "      <td>79</td>\n",
              "      <td>26.69</td>\n",
              "      <td>103.1</td>\n",
              "      <td>94</td>\n",
              "      <td>8.76</td>\n",
              "      <td>211.8</td>\n",
              "      <td>96</td>\n",
              "      <td>9.53</td>\n",
              "      <td>7.1</td>\n",
              "      <td>6</td>\n",
              "      <td>1.92</td>\n",
              "      <td>0</td>\n",
              "      <td>False</td>\n",
              "    </tr>\n",
              "    <tr>\n",
              "      <th>8</th>\n",
              "      <td>LA</td>\n",
              "      <td>117</td>\n",
              "      <td>408</td>\n",
              "      <td>No</td>\n",
              "      <td>No</td>\n",
              "      <td>0</td>\n",
              "      <td>184.5</td>\n",
              "      <td>97</td>\n",
              "      <td>31.37</td>\n",
              "      <td>351.6</td>\n",
              "      <td>80</td>\n",
              "      <td>29.89</td>\n",
              "      <td>215.8</td>\n",
              "      <td>90</td>\n",
              "      <td>9.71</td>\n",
              "      <td>8.7</td>\n",
              "      <td>4</td>\n",
              "      <td>2.35</td>\n",
              "      <td>1</td>\n",
              "      <td>False</td>\n",
              "    </tr>\n",
              "    <tr>\n",
              "      <th>9</th>\n",
              "      <td>WV</td>\n",
              "      <td>141</td>\n",
              "      <td>415</td>\n",
              "      <td>Yes</td>\n",
              "      <td>Yes</td>\n",
              "      <td>37</td>\n",
              "      <td>258.6</td>\n",
              "      <td>84</td>\n",
              "      <td>43.96</td>\n",
              "      <td>222.0</td>\n",
              "      <td>111</td>\n",
              "      <td>18.87</td>\n",
              "      <td>326.4</td>\n",
              "      <td>97</td>\n",
              "      <td>14.69</td>\n",
              "      <td>11.2</td>\n",
              "      <td>5</td>\n",
              "      <td>3.02</td>\n",
              "      <td>0</td>\n",
              "      <td>False</td>\n",
              "    </tr>\n",
              "  </tbody>\n",
              "</table>\n",
              "</div>\n",
              "      <button class=\"colab-df-convert\" onclick=\"convertToInteractive('df-6dc8ee0d-2063-4b11-a2e5-632d25b9fca1')\"\n",
              "              title=\"Convert this dataframe to an interactive table.\"\n",
              "              style=\"display:none;\">\n",
              "        \n",
              "  <svg xmlns=\"http://www.w3.org/2000/svg\" height=\"24px\"viewBox=\"0 0 24 24\"\n",
              "       width=\"24px\">\n",
              "    <path d=\"M0 0h24v24H0V0z\" fill=\"none\"/>\n",
              "    <path d=\"M18.56 5.44l.94 2.06.94-2.06 2.06-.94-2.06-.94-.94-2.06-.94 2.06-2.06.94zm-11 1L8.5 8.5l.94-2.06 2.06-.94-2.06-.94L8.5 2.5l-.94 2.06-2.06.94zm10 10l.94 2.06.94-2.06 2.06-.94-2.06-.94-.94-2.06-.94 2.06-2.06.94z\"/><path d=\"M17.41 7.96l-1.37-1.37c-.4-.4-.92-.59-1.43-.59-.52 0-1.04.2-1.43.59L10.3 9.45l-7.72 7.72c-.78.78-.78 2.05 0 2.83L4 21.41c.39.39.9.59 1.41.59.51 0 1.02-.2 1.41-.59l7.78-7.78 2.81-2.81c.8-.78.8-2.07 0-2.86zM5.41 20L4 18.59l7.72-7.72 1.47 1.35L5.41 20z\"/>\n",
              "  </svg>\n",
              "      </button>\n",
              "      \n",
              "  <style>\n",
              "    .colab-df-container {\n",
              "      display:flex;\n",
              "      flex-wrap:wrap;\n",
              "      gap: 12px;\n",
              "    }\n",
              "\n",
              "    .colab-df-convert {\n",
              "      background-color: #E8F0FE;\n",
              "      border: none;\n",
              "      border-radius: 50%;\n",
              "      cursor: pointer;\n",
              "      display: none;\n",
              "      fill: #1967D2;\n",
              "      height: 32px;\n",
              "      padding: 0 0 0 0;\n",
              "      width: 32px;\n",
              "    }\n",
              "\n",
              "    .colab-df-convert:hover {\n",
              "      background-color: #E2EBFA;\n",
              "      box-shadow: 0px 1px 2px rgba(60, 64, 67, 0.3), 0px 1px 3px 1px rgba(60, 64, 67, 0.15);\n",
              "      fill: #174EA6;\n",
              "    }\n",
              "\n",
              "    [theme=dark] .colab-df-convert {\n",
              "      background-color: #3B4455;\n",
              "      fill: #D2E3FC;\n",
              "    }\n",
              "\n",
              "    [theme=dark] .colab-df-convert:hover {\n",
              "      background-color: #434B5C;\n",
              "      box-shadow: 0px 1px 3px 1px rgba(0, 0, 0, 0.15);\n",
              "      filter: drop-shadow(0px 1px 2px rgba(0, 0, 0, 0.3));\n",
              "      fill: #FFFFFF;\n",
              "    }\n",
              "  </style>\n",
              "\n",
              "      <script>\n",
              "        const buttonEl =\n",
              "          document.querySelector('#df-6dc8ee0d-2063-4b11-a2e5-632d25b9fca1 button.colab-df-convert');\n",
              "        buttonEl.style.display =\n",
              "          google.colab.kernel.accessAllowed ? 'block' : 'none';\n",
              "\n",
              "        async function convertToInteractive(key) {\n",
              "          const element = document.querySelector('#df-6dc8ee0d-2063-4b11-a2e5-632d25b9fca1');\n",
              "          const dataTable =\n",
              "            await google.colab.kernel.invokeFunction('convertToInteractive',\n",
              "                                                     [key], {});\n",
              "          if (!dataTable) return;\n",
              "\n",
              "          const docLinkHtml = 'Like what you see? Visit the ' +\n",
              "            '<a target=\"_blank\" href=https://colab.research.google.com/notebooks/data_table.ipynb>data table notebook</a>'\n",
              "            + ' to learn more about interactive tables.';\n",
              "          element.innerHTML = '';\n",
              "          dataTable['output_type'] = 'display_data';\n",
              "          await google.colab.output.renderOutput(dataTable, element);\n",
              "          const docLink = document.createElement('div');\n",
              "          docLink.innerHTML = docLinkHtml;\n",
              "          element.appendChild(docLink);\n",
              "        }\n",
              "      </script>\n",
              "    </div>\n",
              "  </div>\n",
              "  "
            ],
            "text/plain": [
              "  State  Account length  ...  Customer service calls  Churn\n",
              "0    KS             128  ...                       1  False\n",
              "1    OH             107  ...                       1  False\n",
              "2    NJ             137  ...                       0  False\n",
              "3    OH              84  ...                       2  False\n",
              "4    OK              75  ...                       3  False\n",
              "5    AL             118  ...                       0  False\n",
              "6    MA             121  ...                       3  False\n",
              "7    MO             147  ...                       0  False\n",
              "8    LA             117  ...                       1  False\n",
              "9    WV             141  ...                       0  False\n",
              "\n",
              "[10 rows x 20 columns]"
            ]
          },
          "metadata": {},
          "execution_count": 4
        }
      ]
    },
    {
      "cell_type": "code",
      "source": [
        "# Checking the last 10 rows \n",
        "df.tail(10)"
      ],
      "metadata": {
        "colab": {
          "base_uri": "https://localhost:8080/",
          "height": 442
        },
        "id": "uR7aaY4y6NdH",
        "outputId": "60a34558-a4cd-4060-ee28-0cecc7cc3c9f"
      },
      "execution_count": null,
      "outputs": [
        {
          "output_type": "execute_result",
          "data": {
            "text/html": [
              "\n",
              "  <div id=\"df-cceed87f-444f-4053-940f-a236adbf630d\">\n",
              "    <div class=\"colab-df-container\">\n",
              "      <div>\n",
              "<style scoped>\n",
              "    .dataframe tbody tr th:only-of-type {\n",
              "        vertical-align: middle;\n",
              "    }\n",
              "\n",
              "    .dataframe tbody tr th {\n",
              "        vertical-align: top;\n",
              "    }\n",
              "\n",
              "    .dataframe thead th {\n",
              "        text-align: right;\n",
              "    }\n",
              "</style>\n",
              "<table border=\"1\" class=\"dataframe\">\n",
              "  <thead>\n",
              "    <tr style=\"text-align: right;\">\n",
              "      <th></th>\n",
              "      <th>State</th>\n",
              "      <th>Account length</th>\n",
              "      <th>Area code</th>\n",
              "      <th>International plan</th>\n",
              "      <th>Voice mail plan</th>\n",
              "      <th>Number vmail messages</th>\n",
              "      <th>Total day minutes</th>\n",
              "      <th>Total day calls</th>\n",
              "      <th>Total day charge</th>\n",
              "      <th>Total eve minutes</th>\n",
              "      <th>Total eve calls</th>\n",
              "      <th>Total eve charge</th>\n",
              "      <th>Total night minutes</th>\n",
              "      <th>Total night calls</th>\n",
              "      <th>Total night charge</th>\n",
              "      <th>Total intl minutes</th>\n",
              "      <th>Total intl calls</th>\n",
              "      <th>Total intl charge</th>\n",
              "      <th>Customer service calls</th>\n",
              "      <th>Churn</th>\n",
              "    </tr>\n",
              "  </thead>\n",
              "  <tbody>\n",
              "    <tr>\n",
              "      <th>3323</th>\n",
              "      <td>IN</td>\n",
              "      <td>117</td>\n",
              "      <td>415</td>\n",
              "      <td>No</td>\n",
              "      <td>No</td>\n",
              "      <td>0</td>\n",
              "      <td>118.4</td>\n",
              "      <td>126</td>\n",
              "      <td>20.13</td>\n",
              "      <td>249.3</td>\n",
              "      <td>97</td>\n",
              "      <td>21.19</td>\n",
              "      <td>227.0</td>\n",
              "      <td>56</td>\n",
              "      <td>10.22</td>\n",
              "      <td>13.6</td>\n",
              "      <td>3</td>\n",
              "      <td>3.67</td>\n",
              "      <td>5</td>\n",
              "      <td>True</td>\n",
              "    </tr>\n",
              "    <tr>\n",
              "      <th>3324</th>\n",
              "      <td>WV</td>\n",
              "      <td>159</td>\n",
              "      <td>415</td>\n",
              "      <td>No</td>\n",
              "      <td>No</td>\n",
              "      <td>0</td>\n",
              "      <td>169.8</td>\n",
              "      <td>114</td>\n",
              "      <td>28.87</td>\n",
              "      <td>197.7</td>\n",
              "      <td>105</td>\n",
              "      <td>16.80</td>\n",
              "      <td>193.7</td>\n",
              "      <td>82</td>\n",
              "      <td>8.72</td>\n",
              "      <td>11.6</td>\n",
              "      <td>4</td>\n",
              "      <td>3.13</td>\n",
              "      <td>1</td>\n",
              "      <td>False</td>\n",
              "    </tr>\n",
              "    <tr>\n",
              "      <th>3325</th>\n",
              "      <td>OH</td>\n",
              "      <td>78</td>\n",
              "      <td>408</td>\n",
              "      <td>No</td>\n",
              "      <td>No</td>\n",
              "      <td>0</td>\n",
              "      <td>193.4</td>\n",
              "      <td>99</td>\n",
              "      <td>32.88</td>\n",
              "      <td>116.9</td>\n",
              "      <td>88</td>\n",
              "      <td>9.94</td>\n",
              "      <td>243.3</td>\n",
              "      <td>109</td>\n",
              "      <td>10.95</td>\n",
              "      <td>9.3</td>\n",
              "      <td>4</td>\n",
              "      <td>2.51</td>\n",
              "      <td>2</td>\n",
              "      <td>False</td>\n",
              "    </tr>\n",
              "    <tr>\n",
              "      <th>3326</th>\n",
              "      <td>OH</td>\n",
              "      <td>96</td>\n",
              "      <td>415</td>\n",
              "      <td>No</td>\n",
              "      <td>No</td>\n",
              "      <td>0</td>\n",
              "      <td>106.6</td>\n",
              "      <td>128</td>\n",
              "      <td>18.12</td>\n",
              "      <td>284.8</td>\n",
              "      <td>87</td>\n",
              "      <td>24.21</td>\n",
              "      <td>178.9</td>\n",
              "      <td>92</td>\n",
              "      <td>8.05</td>\n",
              "      <td>14.9</td>\n",
              "      <td>7</td>\n",
              "      <td>4.02</td>\n",
              "      <td>1</td>\n",
              "      <td>False</td>\n",
              "    </tr>\n",
              "    <tr>\n",
              "      <th>3327</th>\n",
              "      <td>SC</td>\n",
              "      <td>79</td>\n",
              "      <td>415</td>\n",
              "      <td>No</td>\n",
              "      <td>No</td>\n",
              "      <td>0</td>\n",
              "      <td>134.7</td>\n",
              "      <td>98</td>\n",
              "      <td>22.90</td>\n",
              "      <td>189.7</td>\n",
              "      <td>68</td>\n",
              "      <td>16.12</td>\n",
              "      <td>221.4</td>\n",
              "      <td>128</td>\n",
              "      <td>9.96</td>\n",
              "      <td>11.8</td>\n",
              "      <td>5</td>\n",
              "      <td>3.19</td>\n",
              "      <td>2</td>\n",
              "      <td>False</td>\n",
              "    </tr>\n",
              "    <tr>\n",
              "      <th>3328</th>\n",
              "      <td>AZ</td>\n",
              "      <td>192</td>\n",
              "      <td>415</td>\n",
              "      <td>No</td>\n",
              "      <td>Yes</td>\n",
              "      <td>36</td>\n",
              "      <td>156.2</td>\n",
              "      <td>77</td>\n",
              "      <td>26.55</td>\n",
              "      <td>215.5</td>\n",
              "      <td>126</td>\n",
              "      <td>18.32</td>\n",
              "      <td>279.1</td>\n",
              "      <td>83</td>\n",
              "      <td>12.56</td>\n",
              "      <td>9.9</td>\n",
              "      <td>6</td>\n",
              "      <td>2.67</td>\n",
              "      <td>2</td>\n",
              "      <td>False</td>\n",
              "    </tr>\n",
              "    <tr>\n",
              "      <th>3329</th>\n",
              "      <td>WV</td>\n",
              "      <td>68</td>\n",
              "      <td>415</td>\n",
              "      <td>No</td>\n",
              "      <td>No</td>\n",
              "      <td>0</td>\n",
              "      <td>231.1</td>\n",
              "      <td>57</td>\n",
              "      <td>39.29</td>\n",
              "      <td>153.4</td>\n",
              "      <td>55</td>\n",
              "      <td>13.04</td>\n",
              "      <td>191.3</td>\n",
              "      <td>123</td>\n",
              "      <td>8.61</td>\n",
              "      <td>9.6</td>\n",
              "      <td>4</td>\n",
              "      <td>2.59</td>\n",
              "      <td>3</td>\n",
              "      <td>False</td>\n",
              "    </tr>\n",
              "    <tr>\n",
              "      <th>3330</th>\n",
              "      <td>RI</td>\n",
              "      <td>28</td>\n",
              "      <td>510</td>\n",
              "      <td>No</td>\n",
              "      <td>No</td>\n",
              "      <td>0</td>\n",
              "      <td>180.8</td>\n",
              "      <td>109</td>\n",
              "      <td>30.74</td>\n",
              "      <td>288.8</td>\n",
              "      <td>58</td>\n",
              "      <td>24.55</td>\n",
              "      <td>191.9</td>\n",
              "      <td>91</td>\n",
              "      <td>8.64</td>\n",
              "      <td>14.1</td>\n",
              "      <td>6</td>\n",
              "      <td>3.81</td>\n",
              "      <td>2</td>\n",
              "      <td>False</td>\n",
              "    </tr>\n",
              "    <tr>\n",
              "      <th>3331</th>\n",
              "      <td>CT</td>\n",
              "      <td>184</td>\n",
              "      <td>510</td>\n",
              "      <td>Yes</td>\n",
              "      <td>No</td>\n",
              "      <td>0</td>\n",
              "      <td>213.8</td>\n",
              "      <td>105</td>\n",
              "      <td>36.35</td>\n",
              "      <td>159.6</td>\n",
              "      <td>84</td>\n",
              "      <td>13.57</td>\n",
              "      <td>139.2</td>\n",
              "      <td>137</td>\n",
              "      <td>6.26</td>\n",
              "      <td>5.0</td>\n",
              "      <td>10</td>\n",
              "      <td>1.35</td>\n",
              "      <td>2</td>\n",
              "      <td>False</td>\n",
              "    </tr>\n",
              "    <tr>\n",
              "      <th>3332</th>\n",
              "      <td>TN</td>\n",
              "      <td>74</td>\n",
              "      <td>415</td>\n",
              "      <td>No</td>\n",
              "      <td>Yes</td>\n",
              "      <td>25</td>\n",
              "      <td>234.4</td>\n",
              "      <td>113</td>\n",
              "      <td>39.85</td>\n",
              "      <td>265.9</td>\n",
              "      <td>82</td>\n",
              "      <td>22.60</td>\n",
              "      <td>241.4</td>\n",
              "      <td>77</td>\n",
              "      <td>10.86</td>\n",
              "      <td>13.7</td>\n",
              "      <td>4</td>\n",
              "      <td>3.70</td>\n",
              "      <td>0</td>\n",
              "      <td>False</td>\n",
              "    </tr>\n",
              "  </tbody>\n",
              "</table>\n",
              "</div>\n",
              "      <button class=\"colab-df-convert\" onclick=\"convertToInteractive('df-cceed87f-444f-4053-940f-a236adbf630d')\"\n",
              "              title=\"Convert this dataframe to an interactive table.\"\n",
              "              style=\"display:none;\">\n",
              "        \n",
              "  <svg xmlns=\"http://www.w3.org/2000/svg\" height=\"24px\"viewBox=\"0 0 24 24\"\n",
              "       width=\"24px\">\n",
              "    <path d=\"M0 0h24v24H0V0z\" fill=\"none\"/>\n",
              "    <path d=\"M18.56 5.44l.94 2.06.94-2.06 2.06-.94-2.06-.94-.94-2.06-.94 2.06-2.06.94zm-11 1L8.5 8.5l.94-2.06 2.06-.94-2.06-.94L8.5 2.5l-.94 2.06-2.06.94zm10 10l.94 2.06.94-2.06 2.06-.94-2.06-.94-.94-2.06-.94 2.06-2.06.94z\"/><path d=\"M17.41 7.96l-1.37-1.37c-.4-.4-.92-.59-1.43-.59-.52 0-1.04.2-1.43.59L10.3 9.45l-7.72 7.72c-.78.78-.78 2.05 0 2.83L4 21.41c.39.39.9.59 1.41.59.51 0 1.02-.2 1.41-.59l7.78-7.78 2.81-2.81c.8-.78.8-2.07 0-2.86zM5.41 20L4 18.59l7.72-7.72 1.47 1.35L5.41 20z\"/>\n",
              "  </svg>\n",
              "      </button>\n",
              "      \n",
              "  <style>\n",
              "    .colab-df-container {\n",
              "      display:flex;\n",
              "      flex-wrap:wrap;\n",
              "      gap: 12px;\n",
              "    }\n",
              "\n",
              "    .colab-df-convert {\n",
              "      background-color: #E8F0FE;\n",
              "      border: none;\n",
              "      border-radius: 50%;\n",
              "      cursor: pointer;\n",
              "      display: none;\n",
              "      fill: #1967D2;\n",
              "      height: 32px;\n",
              "      padding: 0 0 0 0;\n",
              "      width: 32px;\n",
              "    }\n",
              "\n",
              "    .colab-df-convert:hover {\n",
              "      background-color: #E2EBFA;\n",
              "      box-shadow: 0px 1px 2px rgba(60, 64, 67, 0.3), 0px 1px 3px 1px rgba(60, 64, 67, 0.15);\n",
              "      fill: #174EA6;\n",
              "    }\n",
              "\n",
              "    [theme=dark] .colab-df-convert {\n",
              "      background-color: #3B4455;\n",
              "      fill: #D2E3FC;\n",
              "    }\n",
              "\n",
              "    [theme=dark] .colab-df-convert:hover {\n",
              "      background-color: #434B5C;\n",
              "      box-shadow: 0px 1px 3px 1px rgba(0, 0, 0, 0.15);\n",
              "      filter: drop-shadow(0px 1px 2px rgba(0, 0, 0, 0.3));\n",
              "      fill: #FFFFFF;\n",
              "    }\n",
              "  </style>\n",
              "\n",
              "      <script>\n",
              "        const buttonEl =\n",
              "          document.querySelector('#df-cceed87f-444f-4053-940f-a236adbf630d button.colab-df-convert');\n",
              "        buttonEl.style.display =\n",
              "          google.colab.kernel.accessAllowed ? 'block' : 'none';\n",
              "\n",
              "        async function convertToInteractive(key) {\n",
              "          const element = document.querySelector('#df-cceed87f-444f-4053-940f-a236adbf630d');\n",
              "          const dataTable =\n",
              "            await google.colab.kernel.invokeFunction('convertToInteractive',\n",
              "                                                     [key], {});\n",
              "          if (!dataTable) return;\n",
              "\n",
              "          const docLinkHtml = 'Like what you see? Visit the ' +\n",
              "            '<a target=\"_blank\" href=https://colab.research.google.com/notebooks/data_table.ipynb>data table notebook</a>'\n",
              "            + ' to learn more about interactive tables.';\n",
              "          element.innerHTML = '';\n",
              "          dataTable['output_type'] = 'display_data';\n",
              "          await google.colab.output.renderOutput(dataTable, element);\n",
              "          const docLink = document.createElement('div');\n",
              "          docLink.innerHTML = docLinkHtml;\n",
              "          element.appendChild(docLink);\n",
              "        }\n",
              "      </script>\n",
              "    </div>\n",
              "  </div>\n",
              "  "
            ],
            "text/plain": [
              "     State  Account length  ...  Customer service calls  Churn\n",
              "3323    IN             117  ...                       5   True\n",
              "3324    WV             159  ...                       1  False\n",
              "3325    OH              78  ...                       2  False\n",
              "3326    OH              96  ...                       1  False\n",
              "3327    SC              79  ...                       2  False\n",
              "3328    AZ             192  ...                       2  False\n",
              "3329    WV              68  ...                       3  False\n",
              "3330    RI              28  ...                       2  False\n",
              "3331    CT             184  ...                       2  False\n",
              "3332    TN              74  ...                       0  False\n",
              "\n",
              "[10 rows x 20 columns]"
            ]
          },
          "metadata": {},
          "execution_count": 5
        }
      ]
    },
    {
      "cell_type": "code",
      "source": [
        "# Checking basic information of our dataset\n",
        "df.info()"
      ],
      "metadata": {
        "colab": {
          "base_uri": "https://localhost:8080/"
        },
        "id": "s4YrXUwx6QJ3",
        "outputId": "7748f79b-c028-4cbd-e85b-bb2fe035bd0d"
      },
      "execution_count": null,
      "outputs": [
        {
          "output_type": "stream",
          "name": "stdout",
          "text": [
            "<class 'pandas.core.frame.DataFrame'>\n",
            "RangeIndex: 3333 entries, 0 to 3332\n",
            "Data columns (total 20 columns):\n",
            " #   Column                  Non-Null Count  Dtype  \n",
            "---  ------                  --------------  -----  \n",
            " 0   State                   3333 non-null   object \n",
            " 1   Account length          3333 non-null   int64  \n",
            " 2   Area code               3333 non-null   int64  \n",
            " 3   International plan      3333 non-null   object \n",
            " 4   Voice mail plan         3333 non-null   object \n",
            " 5   Number vmail messages   3333 non-null   int64  \n",
            " 6   Total day minutes       3333 non-null   float64\n",
            " 7   Total day calls         3333 non-null   int64  \n",
            " 8   Total day charge        3333 non-null   float64\n",
            " 9   Total eve minutes       3333 non-null   float64\n",
            " 10  Total eve calls         3333 non-null   int64  \n",
            " 11  Total eve charge        3333 non-null   float64\n",
            " 12  Total night minutes     3333 non-null   float64\n",
            " 13  Total night calls       3333 non-null   int64  \n",
            " 14  Total night charge      3333 non-null   float64\n",
            " 15  Total intl minutes      3333 non-null   float64\n",
            " 16  Total intl calls        3333 non-null   int64  \n",
            " 17  Total intl charge       3333 non-null   float64\n",
            " 18  Customer service calls  3333 non-null   int64  \n",
            " 19  Churn                   3333 non-null   bool   \n",
            "dtypes: bool(1), float64(8), int64(8), object(3)\n",
            "memory usage: 498.1+ KB\n"
          ]
        }
      ]
    },
    {
      "cell_type": "code",
      "source": [
        "# Exploring descriptive statistical parameter\n",
        "df.describe()"
      ],
      "metadata": {
        "colab": {
          "base_uri": "https://localhost:8080/",
          "height": 399
        },
        "id": "R1SFwcVD6S9E",
        "outputId": "e4d5348c-8494-4c8a-8f25-d9b89b068a25"
      },
      "execution_count": null,
      "outputs": [
        {
          "output_type": "execute_result",
          "data": {
            "text/html": [
              "\n",
              "  <div id=\"df-6decaedd-a596-46ca-8c2d-39c1bf449137\">\n",
              "    <div class=\"colab-df-container\">\n",
              "      <div>\n",
              "<style scoped>\n",
              "    .dataframe tbody tr th:only-of-type {\n",
              "        vertical-align: middle;\n",
              "    }\n",
              "\n",
              "    .dataframe tbody tr th {\n",
              "        vertical-align: top;\n",
              "    }\n",
              "\n",
              "    .dataframe thead th {\n",
              "        text-align: right;\n",
              "    }\n",
              "</style>\n",
              "<table border=\"1\" class=\"dataframe\">\n",
              "  <thead>\n",
              "    <tr style=\"text-align: right;\">\n",
              "      <th></th>\n",
              "      <th>Account length</th>\n",
              "      <th>Area code</th>\n",
              "      <th>Number vmail messages</th>\n",
              "      <th>Total day minutes</th>\n",
              "      <th>Total day calls</th>\n",
              "      <th>Total day charge</th>\n",
              "      <th>Total eve minutes</th>\n",
              "      <th>Total eve calls</th>\n",
              "      <th>Total eve charge</th>\n",
              "      <th>Total night minutes</th>\n",
              "      <th>Total night calls</th>\n",
              "      <th>Total night charge</th>\n",
              "      <th>Total intl minutes</th>\n",
              "      <th>Total intl calls</th>\n",
              "      <th>Total intl charge</th>\n",
              "      <th>Customer service calls</th>\n",
              "    </tr>\n",
              "  </thead>\n",
              "  <tbody>\n",
              "    <tr>\n",
              "      <th>count</th>\n",
              "      <td>3333.000000</td>\n",
              "      <td>3333.000000</td>\n",
              "      <td>3333.000000</td>\n",
              "      <td>3333.000000</td>\n",
              "      <td>3333.000000</td>\n",
              "      <td>3333.000000</td>\n",
              "      <td>3333.000000</td>\n",
              "      <td>3333.000000</td>\n",
              "      <td>3333.000000</td>\n",
              "      <td>3333.000000</td>\n",
              "      <td>3333.000000</td>\n",
              "      <td>3333.000000</td>\n",
              "      <td>3333.000000</td>\n",
              "      <td>3333.000000</td>\n",
              "      <td>3333.000000</td>\n",
              "      <td>3333.000000</td>\n",
              "    </tr>\n",
              "    <tr>\n",
              "      <th>mean</th>\n",
              "      <td>101.064806</td>\n",
              "      <td>437.182418</td>\n",
              "      <td>8.099010</td>\n",
              "      <td>179.775098</td>\n",
              "      <td>100.435644</td>\n",
              "      <td>30.562307</td>\n",
              "      <td>200.980348</td>\n",
              "      <td>100.114311</td>\n",
              "      <td>17.083540</td>\n",
              "      <td>200.872037</td>\n",
              "      <td>100.107711</td>\n",
              "      <td>9.039325</td>\n",
              "      <td>10.237294</td>\n",
              "      <td>4.479448</td>\n",
              "      <td>2.764581</td>\n",
              "      <td>1.562856</td>\n",
              "    </tr>\n",
              "    <tr>\n",
              "      <th>std</th>\n",
              "      <td>39.822106</td>\n",
              "      <td>42.371290</td>\n",
              "      <td>13.688365</td>\n",
              "      <td>54.467389</td>\n",
              "      <td>20.069084</td>\n",
              "      <td>9.259435</td>\n",
              "      <td>50.713844</td>\n",
              "      <td>19.922625</td>\n",
              "      <td>4.310668</td>\n",
              "      <td>50.573847</td>\n",
              "      <td>19.568609</td>\n",
              "      <td>2.275873</td>\n",
              "      <td>2.791840</td>\n",
              "      <td>2.461214</td>\n",
              "      <td>0.753773</td>\n",
              "      <td>1.315491</td>\n",
              "    </tr>\n",
              "    <tr>\n",
              "      <th>min</th>\n",
              "      <td>1.000000</td>\n",
              "      <td>408.000000</td>\n",
              "      <td>0.000000</td>\n",
              "      <td>0.000000</td>\n",
              "      <td>0.000000</td>\n",
              "      <td>0.000000</td>\n",
              "      <td>0.000000</td>\n",
              "      <td>0.000000</td>\n",
              "      <td>0.000000</td>\n",
              "      <td>23.200000</td>\n",
              "      <td>33.000000</td>\n",
              "      <td>1.040000</td>\n",
              "      <td>0.000000</td>\n",
              "      <td>0.000000</td>\n",
              "      <td>0.000000</td>\n",
              "      <td>0.000000</td>\n",
              "    </tr>\n",
              "    <tr>\n",
              "      <th>25%</th>\n",
              "      <td>74.000000</td>\n",
              "      <td>408.000000</td>\n",
              "      <td>0.000000</td>\n",
              "      <td>143.700000</td>\n",
              "      <td>87.000000</td>\n",
              "      <td>24.430000</td>\n",
              "      <td>166.600000</td>\n",
              "      <td>87.000000</td>\n",
              "      <td>14.160000</td>\n",
              "      <td>167.000000</td>\n",
              "      <td>87.000000</td>\n",
              "      <td>7.520000</td>\n",
              "      <td>8.500000</td>\n",
              "      <td>3.000000</td>\n",
              "      <td>2.300000</td>\n",
              "      <td>1.000000</td>\n",
              "    </tr>\n",
              "    <tr>\n",
              "      <th>50%</th>\n",
              "      <td>101.000000</td>\n",
              "      <td>415.000000</td>\n",
              "      <td>0.000000</td>\n",
              "      <td>179.400000</td>\n",
              "      <td>101.000000</td>\n",
              "      <td>30.500000</td>\n",
              "      <td>201.400000</td>\n",
              "      <td>100.000000</td>\n",
              "      <td>17.120000</td>\n",
              "      <td>201.200000</td>\n",
              "      <td>100.000000</td>\n",
              "      <td>9.050000</td>\n",
              "      <td>10.300000</td>\n",
              "      <td>4.000000</td>\n",
              "      <td>2.780000</td>\n",
              "      <td>1.000000</td>\n",
              "    </tr>\n",
              "    <tr>\n",
              "      <th>75%</th>\n",
              "      <td>127.000000</td>\n",
              "      <td>510.000000</td>\n",
              "      <td>20.000000</td>\n",
              "      <td>216.400000</td>\n",
              "      <td>114.000000</td>\n",
              "      <td>36.790000</td>\n",
              "      <td>235.300000</td>\n",
              "      <td>114.000000</td>\n",
              "      <td>20.000000</td>\n",
              "      <td>235.300000</td>\n",
              "      <td>113.000000</td>\n",
              "      <td>10.590000</td>\n",
              "      <td>12.100000</td>\n",
              "      <td>6.000000</td>\n",
              "      <td>3.270000</td>\n",
              "      <td>2.000000</td>\n",
              "    </tr>\n",
              "    <tr>\n",
              "      <th>max</th>\n",
              "      <td>243.000000</td>\n",
              "      <td>510.000000</td>\n",
              "      <td>51.000000</td>\n",
              "      <td>350.800000</td>\n",
              "      <td>165.000000</td>\n",
              "      <td>59.640000</td>\n",
              "      <td>363.700000</td>\n",
              "      <td>170.000000</td>\n",
              "      <td>30.910000</td>\n",
              "      <td>395.000000</td>\n",
              "      <td>175.000000</td>\n",
              "      <td>17.770000</td>\n",
              "      <td>20.000000</td>\n",
              "      <td>20.000000</td>\n",
              "      <td>5.400000</td>\n",
              "      <td>9.000000</td>\n",
              "    </tr>\n",
              "  </tbody>\n",
              "</table>\n",
              "</div>\n",
              "      <button class=\"colab-df-convert\" onclick=\"convertToInteractive('df-6decaedd-a596-46ca-8c2d-39c1bf449137')\"\n",
              "              title=\"Convert this dataframe to an interactive table.\"\n",
              "              style=\"display:none;\">\n",
              "        \n",
              "  <svg xmlns=\"http://www.w3.org/2000/svg\" height=\"24px\"viewBox=\"0 0 24 24\"\n",
              "       width=\"24px\">\n",
              "    <path d=\"M0 0h24v24H0V0z\" fill=\"none\"/>\n",
              "    <path d=\"M18.56 5.44l.94 2.06.94-2.06 2.06-.94-2.06-.94-.94-2.06-.94 2.06-2.06.94zm-11 1L8.5 8.5l.94-2.06 2.06-.94-2.06-.94L8.5 2.5l-.94 2.06-2.06.94zm10 10l.94 2.06.94-2.06 2.06-.94-2.06-.94-.94-2.06-.94 2.06-2.06.94z\"/><path d=\"M17.41 7.96l-1.37-1.37c-.4-.4-.92-.59-1.43-.59-.52 0-1.04.2-1.43.59L10.3 9.45l-7.72 7.72c-.78.78-.78 2.05 0 2.83L4 21.41c.39.39.9.59 1.41.59.51 0 1.02-.2 1.41-.59l7.78-7.78 2.81-2.81c.8-.78.8-2.07 0-2.86zM5.41 20L4 18.59l7.72-7.72 1.47 1.35L5.41 20z\"/>\n",
              "  </svg>\n",
              "      </button>\n",
              "      \n",
              "  <style>\n",
              "    .colab-df-container {\n",
              "      display:flex;\n",
              "      flex-wrap:wrap;\n",
              "      gap: 12px;\n",
              "    }\n",
              "\n",
              "    .colab-df-convert {\n",
              "      background-color: #E8F0FE;\n",
              "      border: none;\n",
              "      border-radius: 50%;\n",
              "      cursor: pointer;\n",
              "      display: none;\n",
              "      fill: #1967D2;\n",
              "      height: 32px;\n",
              "      padding: 0 0 0 0;\n",
              "      width: 32px;\n",
              "    }\n",
              "\n",
              "    .colab-df-convert:hover {\n",
              "      background-color: #E2EBFA;\n",
              "      box-shadow: 0px 1px 2px rgba(60, 64, 67, 0.3), 0px 1px 3px 1px rgba(60, 64, 67, 0.15);\n",
              "      fill: #174EA6;\n",
              "    }\n",
              "\n",
              "    [theme=dark] .colab-df-convert {\n",
              "      background-color: #3B4455;\n",
              "      fill: #D2E3FC;\n",
              "    }\n",
              "\n",
              "    [theme=dark] .colab-df-convert:hover {\n",
              "      background-color: #434B5C;\n",
              "      box-shadow: 0px 1px 3px 1px rgba(0, 0, 0, 0.15);\n",
              "      filter: drop-shadow(0px 1px 2px rgba(0, 0, 0, 0.3));\n",
              "      fill: #FFFFFF;\n",
              "    }\n",
              "  </style>\n",
              "\n",
              "      <script>\n",
              "        const buttonEl =\n",
              "          document.querySelector('#df-6decaedd-a596-46ca-8c2d-39c1bf449137 button.colab-df-convert');\n",
              "        buttonEl.style.display =\n",
              "          google.colab.kernel.accessAllowed ? 'block' : 'none';\n",
              "\n",
              "        async function convertToInteractive(key) {\n",
              "          const element = document.querySelector('#df-6decaedd-a596-46ca-8c2d-39c1bf449137');\n",
              "          const dataTable =\n",
              "            await google.colab.kernel.invokeFunction('convertToInteractive',\n",
              "                                                     [key], {});\n",
              "          if (!dataTable) return;\n",
              "\n",
              "          const docLinkHtml = 'Like what you see? Visit the ' +\n",
              "            '<a target=\"_blank\" href=https://colab.research.google.com/notebooks/data_table.ipynb>data table notebook</a>'\n",
              "            + ' to learn more about interactive tables.';\n",
              "          element.innerHTML = '';\n",
              "          dataTable['output_type'] = 'display_data';\n",
              "          await google.colab.output.renderOutput(dataTable, element);\n",
              "          const docLink = document.createElement('div');\n",
              "          docLink.innerHTML = docLinkHtml;\n",
              "          element.appendChild(docLink);\n",
              "        }\n",
              "      </script>\n",
              "    </div>\n",
              "  </div>\n",
              "  "
            ],
            "text/plain": [
              "       Account length    Area code  ...  Total intl charge  Customer service calls\n",
              "count     3333.000000  3333.000000  ...        3333.000000             3333.000000\n",
              "mean       101.064806   437.182418  ...           2.764581                1.562856\n",
              "std         39.822106    42.371290  ...           0.753773                1.315491\n",
              "min          1.000000   408.000000  ...           0.000000                0.000000\n",
              "25%         74.000000   408.000000  ...           2.300000                1.000000\n",
              "50%        101.000000   415.000000  ...           2.780000                1.000000\n",
              "75%        127.000000   510.000000  ...           3.270000                2.000000\n",
              "max        243.000000   510.000000  ...           5.400000                9.000000\n",
              "\n",
              "[8 rows x 16 columns]"
            ]
          },
          "metadata": {},
          "execution_count": 7
        }
      ]
    },
    {
      "cell_type": "markdown",
      "source": [
        "# **Data Cleaning**"
      ],
      "metadata": {
        "id": "CWe_JhaFJSRh"
      }
    },
    {
      "cell_type": "code",
      "source": [
        "# Checking the null values if present\n",
        "df.isnull().sum()"
      ],
      "metadata": {
        "colab": {
          "base_uri": "https://localhost:8080/"
        },
        "id": "M_E8pEtp6W_t",
        "outputId": "087199fe-01ad-4ff5-85be-62f64e7ff4ed"
      },
      "execution_count": null,
      "outputs": [
        {
          "output_type": "execute_result",
          "data": {
            "text/plain": [
              "State                     0\n",
              "Account length            0\n",
              "Area code                 0\n",
              "International plan        0\n",
              "Voice mail plan           0\n",
              "Number vmail messages     0\n",
              "Total day minutes         0\n",
              "Total day calls           0\n",
              "Total day charge          0\n",
              "Total eve minutes         0\n",
              "Total eve calls           0\n",
              "Total eve charge          0\n",
              "Total night minutes       0\n",
              "Total night calls         0\n",
              "Total night charge        0\n",
              "Total intl minutes        0\n",
              "Total intl calls          0\n",
              "Total intl charge         0\n",
              "Customer service calls    0\n",
              "Churn                     0\n",
              "dtype: int64"
            ]
          },
          "metadata": {},
          "execution_count": 8
        }
      ]
    },
    {
      "cell_type": "markdown",
      "source": [
        "# **Analysis and Visualization**"
      ],
      "metadata": {
        "id": "2hR9u5uOY7Fz"
      }
    },
    {
      "cell_type": "code",
      "source": [
        "# Finding the total number of customers from each state\n",
        "number_of_customers=df['State'].value_counts()\n",
        "number_of_customers"
      ],
      "metadata": {
        "colab": {
          "base_uri": "https://localhost:8080/"
        },
        "id": "H27s_Zkk8Rxj",
        "outputId": "5d3e745e-6b76-4698-a41d-34ea7c99a855"
      },
      "execution_count": null,
      "outputs": [
        {
          "output_type": "execute_result",
          "data": {
            "text/plain": [
              "WV    106\n",
              "MN     84\n",
              "NY     83\n",
              "AL     80\n",
              "OR     78\n",
              "OH     78\n",
              "WI     78\n",
              "WY     77\n",
              "VA     77\n",
              "CT     74\n",
              "ID     73\n",
              "MI     73\n",
              "VT     73\n",
              "TX     72\n",
              "UT     72\n",
              "IN     71\n",
              "KS     70\n",
              "MD     70\n",
              "NC     68\n",
              "MT     68\n",
              "NJ     68\n",
              "CO     66\n",
              "WA     66\n",
              "NV     66\n",
              "MS     65\n",
              "RI     65\n",
              "MA     65\n",
              "AZ     64\n",
              "FL     63\n",
              "MO     63\n",
              "NM     62\n",
              "ND     62\n",
              "ME     62\n",
              "DE     61\n",
              "NE     61\n",
              "OK     61\n",
              "SC     60\n",
              "SD     60\n",
              "KY     59\n",
              "IL     58\n",
              "NH     56\n",
              "AR     55\n",
              "GA     54\n",
              "DC     54\n",
              "TN     53\n",
              "HI     53\n",
              "AK     52\n",
              "LA     51\n",
              "PA     45\n",
              "IA     44\n",
              "CA     34\n",
              "Name: State, dtype: int64"
            ]
          },
          "metadata": {},
          "execution_count": 9
        }
      ]
    },
    {
      "cell_type": "code",
      "source": [
        "# plotting the graph of number of customers from top 10 states\n",
        "number_of_customers.head(10).plot(kind='bar',color='green')\n",
        "plt.grid()\n",
        "plt.rcParams['figure.figsize']=(15,6)\n",
        "font1 = {'family':'serif','color':'blue','size':20}\n",
        "font2 = {'family':'serif','color':'darkred','size':15}\n",
        "plt.title('Total number Of Customers',fontdict=font1)\n",
        "plt.xlabel('States',fontdict=font2)\n",
        "plt.ylabel('Number Of Customers',fontdict=font2)"
      ],
      "metadata": {
        "colab": {
          "base_uri": "https://localhost:8080/",
          "height": 438
        },
        "id": "q3i4byZm-Nz6",
        "outputId": "808bcdd2-0fd1-41e0-d828-d408e40af1fb"
      },
      "execution_count": null,
      "outputs": [
        {
          "output_type": "execute_result",
          "data": {
            "text/plain": [
              "Text(0, 0.5, 'Number Of Customers')"
            ]
          },
          "metadata": {},
          "execution_count": 44
        },
        {
          "output_type": "display_data",
          "data": {
            "image/png": "[encoded data removed]",
            "text/plain": [
              "<Figure size 1080x432 with 1 Axes>"
            ]
          },
          "metadata": {
            "needs_background": "light"
          }
        }
      ]
    },
    {
      "cell_type": "markdown",
      "source": [
        "### **From this bar chart, we have find out number of customers from each state - West Virginia - 106, Minnesota - 84, New York - 83, Alabama - 80, Oregon - 78, Ohio - 78, Wisconsin - 78, Virginia - 77, Wyoming - 77, Connecticut - 74.**"
      ],
      "metadata": {
        "id": "zhvm60QcLzpT"
      }
    },
    {
      "cell_type": "code",
      "source": [
        "# Counting total customers according to Area code\n",
        "code_counts=df['Area code'].value_counts()\n",
        "code_counts"
      ],
      "metadata": {
        "colab": {
          "base_uri": "https://localhost:8080/"
        },
        "id": "u96tq8tVQLYj",
        "outputId": "0130c681-e79f-489c-eb39-bd99803b62aa"
      },
      "execution_count": null,
      "outputs": [
        {
          "output_type": "execute_result",
          "data": {
            "text/plain": [
              "415    1655\n",
              "510     840\n",
              "408     838\n",
              "Name: Area code, dtype: int64"
            ]
          },
          "metadata": {},
          "execution_count": 11
        }
      ]
    },
    {
      "cell_type": "code",
      "source": [
        "# Plotting pie chart for code_counts\n",
        "code_counts.plot(kind='pie',explode=[0.1,0,0],shadow=True,colors=['r','g','y'])\n",
        "plt.legend(title='Area Code:')"
      ],
      "metadata": {
        "colab": {
          "base_uri": "https://localhost:8080/",
          "height": 374
        },
        "id": "ODAXnX9EREqv",
        "outputId": "2778c15a-2986-42e3-d4c8-d09414b4258e"
      },
      "execution_count": null,
      "outputs": [
        {
          "output_type": "execute_result",
          "data": {
            "text/plain": [
              "<matplotlib.legend.Legend at 0x7f6da8066d90>"
            ]
          },
          "metadata": {},
          "execution_count": 12
        },
        {
          "output_type": "display_data",
          "data": {
            "image/png": "[encoded data removed]",
            "text/plain": [
              "<Figure size 1080x432 with 1 Axes>"
            ]
          },
          "metadata": {}
        }
      ]
    },
    {
      "cell_type": "markdown",
      "source": [
        "### **With the help of this pie chart, we have number of customers according to the area code. It is clearly representing that the area code 415 having the most number of customers near about 50% of total customers also area code 408 have 840 customers and area code 510 have 838 customers.**"
      ],
      "metadata": {
        "id": "9wR1soc4UGvp"
      }
    },
    {
      "cell_type": "code",
      "source": [
        "# Find out number of customers according toarea code in each state\n",
        "customer_by_code=df.groupby('State')['Area code'].value_counts().unstack()\n",
        "customer_by_code"
      ],
      "metadata": {
        "colab": {
          "base_uri": "https://localhost:8080/",
          "height": 1000
        },
        "id": "oL-nJZlTbynH",
        "outputId": "f5dbcd87-f35c-484c-f832-dfe9ffe73c15"
      },
      "execution_count": null,
      "outputs": [
        {
          "output_type": "execute_result",
          "data": {
            "text/html": [
              "\n",
              "  <div id=\"df-b5abc092-2f91-4f81-bcbc-f2d3af34fbfe\">\n",
              "    <div class=\"colab-df-container\">\n",
              "      <div>\n",
              "<style scoped>\n",
              "    .dataframe tbody tr th:only-of-type {\n",
              "        vertical-align: middle;\n",
              "    }\n",
              "\n",
              "    .dataframe tbody tr th {\n",
              "        vertical-align: top;\n",
              "    }\n",
              "\n",
              "    .dataframe thead th {\n",
              "        text-align: right;\n",
              "    }\n",
              "</style>\n",
              "<table border=\"1\" class=\"dataframe\">\n",
              "  <thead>\n",
              "    <tr style=\"text-align: right;\">\n",
              "      <th>Area code</th>\n",
              "      <th>408</th>\n",
              "      <th>415</th>\n",
              "      <th>510</th>\n",
              "    </tr>\n",
              "    <tr>\n",
              "      <th>State</th>\n",
              "      <th></th>\n",
              "      <th></th>\n",
              "      <th></th>\n",
              "    </tr>\n",
              "  </thead>\n",
              "  <tbody>\n",
              "    <tr>\n",
              "      <th>AK</th>\n",
              "      <td>14</td>\n",
              "      <td>24</td>\n",
              "      <td>14</td>\n",
              "    </tr>\n",
              "    <tr>\n",
              "      <th>AL</th>\n",
              "      <td>25</td>\n",
              "      <td>40</td>\n",
              "      <td>15</td>\n",
              "    </tr>\n",
              "    <tr>\n",
              "      <th>AR</th>\n",
              "      <td>13</td>\n",
              "      <td>27</td>\n",
              "      <td>15</td>\n",
              "    </tr>\n",
              "    <tr>\n",
              "      <th>AZ</th>\n",
              "      <td>15</td>\n",
              "      <td>36</td>\n",
              "      <td>13</td>\n",
              "    </tr>\n",
              "    <tr>\n",
              "      <th>CA</th>\n",
              "      <td>7</td>\n",
              "      <td>17</td>\n",
              "      <td>10</td>\n",
              "    </tr>\n",
              "    <tr>\n",
              "      <th>CO</th>\n",
              "      <td>25</td>\n",
              "      <td>29</td>\n",
              "      <td>12</td>\n",
              "    </tr>\n",
              "    <tr>\n",
              "      <th>CT</th>\n",
              "      <td>22</td>\n",
              "      <td>39</td>\n",
              "      <td>13</td>\n",
              "    </tr>\n",
              "    <tr>\n",
              "      <th>DC</th>\n",
              "      <td>14</td>\n",
              "      <td>27</td>\n",
              "      <td>13</td>\n",
              "    </tr>\n",
              "    <tr>\n",
              "      <th>DE</th>\n",
              "      <td>13</td>\n",
              "      <td>31</td>\n",
              "      <td>17</td>\n",
              "    </tr>\n",
              "    <tr>\n",
              "      <th>FL</th>\n",
              "      <td>12</td>\n",
              "      <td>31</td>\n",
              "      <td>20</td>\n",
              "    </tr>\n",
              "    <tr>\n",
              "      <th>GA</th>\n",
              "      <td>15</td>\n",
              "      <td>21</td>\n",
              "      <td>18</td>\n",
              "    </tr>\n",
              "    <tr>\n",
              "      <th>HI</th>\n",
              "      <td>15</td>\n",
              "      <td>30</td>\n",
              "      <td>8</td>\n",
              "    </tr>\n",
              "    <tr>\n",
              "      <th>IA</th>\n",
              "      <td>8</td>\n",
              "      <td>20</td>\n",
              "      <td>16</td>\n",
              "    </tr>\n",
              "    <tr>\n",
              "      <th>ID</th>\n",
              "      <td>12</td>\n",
              "      <td>41</td>\n",
              "      <td>20</td>\n",
              "    </tr>\n",
              "    <tr>\n",
              "      <th>IL</th>\n",
              "      <td>15</td>\n",
              "      <td>28</td>\n",
              "      <td>15</td>\n",
              "    </tr>\n",
              "    <tr>\n",
              "      <th>IN</th>\n",
              "      <td>18</td>\n",
              "      <td>33</td>\n",
              "      <td>20</td>\n",
              "    </tr>\n",
              "    <tr>\n",
              "      <th>KS</th>\n",
              "      <td>12</td>\n",
              "      <td>37</td>\n",
              "      <td>21</td>\n",
              "    </tr>\n",
              "    <tr>\n",
              "      <th>KY</th>\n",
              "      <td>15</td>\n",
              "      <td>32</td>\n",
              "      <td>12</td>\n",
              "    </tr>\n",
              "    <tr>\n",
              "      <th>LA</th>\n",
              "      <td>13</td>\n",
              "      <td>27</td>\n",
              "      <td>11</td>\n",
              "    </tr>\n",
              "    <tr>\n",
              "      <th>MA</th>\n",
              "      <td>24</td>\n",
              "      <td>29</td>\n",
              "      <td>12</td>\n",
              "    </tr>\n",
              "    <tr>\n",
              "      <th>MD</th>\n",
              "      <td>16</td>\n",
              "      <td>39</td>\n",
              "      <td>15</td>\n",
              "    </tr>\n",
              "    <tr>\n",
              "      <th>ME</th>\n",
              "      <td>15</td>\n",
              "      <td>25</td>\n",
              "      <td>22</td>\n",
              "    </tr>\n",
              "    <tr>\n",
              "      <th>MI</th>\n",
              "      <td>12</td>\n",
              "      <td>39</td>\n",
              "      <td>22</td>\n",
              "    </tr>\n",
              "    <tr>\n",
              "      <th>MN</th>\n",
              "      <td>20</td>\n",
              "      <td>40</td>\n",
              "      <td>24</td>\n",
              "    </tr>\n",
              "    <tr>\n",
              "      <th>MO</th>\n",
              "      <td>15</td>\n",
              "      <td>37</td>\n",
              "      <td>11</td>\n",
              "    </tr>\n",
              "    <tr>\n",
              "      <th>MS</th>\n",
              "      <td>15</td>\n",
              "      <td>31</td>\n",
              "      <td>19</td>\n",
              "    </tr>\n",
              "    <tr>\n",
              "      <th>MT</th>\n",
              "      <td>17</td>\n",
              "      <td>34</td>\n",
              "      <td>17</td>\n",
              "    </tr>\n",
              "    <tr>\n",
              "      <th>NC</th>\n",
              "      <td>25</td>\n",
              "      <td>28</td>\n",
              "      <td>15</td>\n",
              "    </tr>\n",
              "    <tr>\n",
              "      <th>ND</th>\n",
              "      <td>19</td>\n",
              "      <td>28</td>\n",
              "      <td>15</td>\n",
              "    </tr>\n",
              "    <tr>\n",
              "      <th>NE</th>\n",
              "      <td>13</td>\n",
              "      <td>34</td>\n",
              "      <td>14</td>\n",
              "    </tr>\n",
              "    <tr>\n",
              "      <th>NH</th>\n",
              "      <td>25</td>\n",
              "      <td>19</td>\n",
              "      <td>12</td>\n",
              "    </tr>\n",
              "    <tr>\n",
              "      <th>NJ</th>\n",
              "      <td>15</td>\n",
              "      <td>34</td>\n",
              "      <td>19</td>\n",
              "    </tr>\n",
              "    <tr>\n",
              "      <th>NM</th>\n",
              "      <td>16</td>\n",
              "      <td>35</td>\n",
              "      <td>11</td>\n",
              "    </tr>\n",
              "    <tr>\n",
              "      <th>NV</th>\n",
              "      <td>14</td>\n",
              "      <td>34</td>\n",
              "      <td>18</td>\n",
              "    </tr>\n",
              "    <tr>\n",
              "      <th>NY</th>\n",
              "      <td>19</td>\n",
              "      <td>47</td>\n",
              "      <td>17</td>\n",
              "    </tr>\n",
              "    <tr>\n",
              "      <th>OH</th>\n",
              "      <td>22</td>\n",
              "      <td>40</td>\n",
              "      <td>16</td>\n",
              "    </tr>\n",
              "    <tr>\n",
              "      <th>OK</th>\n",
              "      <td>17</td>\n",
              "      <td>27</td>\n",
              "      <td>17</td>\n",
              "    </tr>\n",
              "    <tr>\n",
              "      <th>OR</th>\n",
              "      <td>14</td>\n",
              "      <td>44</td>\n",
              "      <td>20</td>\n",
              "    </tr>\n",
              "    <tr>\n",
              "      <th>PA</th>\n",
              "      <td>14</td>\n",
              "      <td>19</td>\n",
              "      <td>12</td>\n",
              "    </tr>\n",
              "    <tr>\n",
              "      <th>RI</th>\n",
              "      <td>12</td>\n",
              "      <td>35</td>\n",
              "      <td>18</td>\n",
              "    </tr>\n",
              "    <tr>\n",
              "      <th>SC</th>\n",
              "      <td>13</td>\n",
              "      <td>30</td>\n",
              "      <td>17</td>\n",
              "    </tr>\n",
              "    <tr>\n",
              "      <th>SD</th>\n",
              "      <td>16</td>\n",
              "      <td>28</td>\n",
              "      <td>16</td>\n",
              "    </tr>\n",
              "    <tr>\n",
              "      <th>TN</th>\n",
              "      <td>11</td>\n",
              "      <td>30</td>\n",
              "      <td>12</td>\n",
              "    </tr>\n",
              "    <tr>\n",
              "      <th>TX</th>\n",
              "      <td>20</td>\n",
              "      <td>37</td>\n",
              "      <td>15</td>\n",
              "    </tr>\n",
              "    <tr>\n",
              "      <th>UT</th>\n",
              "      <td>12</td>\n",
              "      <td>37</td>\n",
              "      <td>23</td>\n",
              "    </tr>\n",
              "    <tr>\n",
              "      <th>VA</th>\n",
              "      <td>25</td>\n",
              "      <td>35</td>\n",
              "      <td>17</td>\n",
              "    </tr>\n",
              "    <tr>\n",
              "      <th>VT</th>\n",
              "      <td>17</td>\n",
              "      <td>36</td>\n",
              "      <td>20</td>\n",
              "    </tr>\n",
              "    <tr>\n",
              "      <th>WA</th>\n",
              "      <td>23</td>\n",
              "      <td>26</td>\n",
              "      <td>17</td>\n",
              "    </tr>\n",
              "    <tr>\n",
              "      <th>WI</th>\n",
              "      <td>22</td>\n",
              "      <td>35</td>\n",
              "      <td>21</td>\n",
              "    </tr>\n",
              "    <tr>\n",
              "      <th>WV</th>\n",
              "      <td>20</td>\n",
              "      <td>52</td>\n",
              "      <td>34</td>\n",
              "    </tr>\n",
              "    <tr>\n",
              "      <th>WY</th>\n",
              "      <td>17</td>\n",
              "      <td>41</td>\n",
              "      <td>19</td>\n",
              "    </tr>\n",
              "  </tbody>\n",
              "</table>\n",
              "</div>\n",
              "      <button class=\"colab-df-convert\" onclick=\"convertToInteractive('df-b5abc092-2f91-4f81-bcbc-f2d3af34fbfe')\"\n",
              "              title=\"Convert this dataframe to an interactive table.\"\n",
              "              style=\"display:none;\">\n",
              "        \n",
              "  <svg xmlns=\"http://www.w3.org/2000/svg\" height=\"24px\"viewBox=\"0 0 24 24\"\n",
              "       width=\"24px\">\n",
              "    <path d=\"M0 0h24v24H0V0z\" fill=\"none\"/>\n",
              "    <path d=\"M18.56 5.44l.94 2.06.94-2.06 2.06-.94-2.06-.94-.94-2.06-.94 2.06-2.06.94zm-11 1L8.5 8.5l.94-2.06 2.06-.94-2.06-.94L8.5 2.5l-.94 2.06-2.06.94zm10 10l.94 2.06.94-2.06 2.06-.94-2.06-.94-.94-2.06-.94 2.06-2.06.94z\"/><path d=\"M17.41 7.96l-1.37-1.37c-.4-.4-.92-.59-1.43-.59-.52 0-1.04.2-1.43.59L10.3 9.45l-7.72 7.72c-.78.78-.78 2.05 0 2.83L4 21.41c.39.39.9.59 1.41.59.51 0 1.02-.2 1.41-.59l7.78-7.78 2.81-2.81c.8-.78.8-2.07 0-2.86zM5.41 20L4 18.59l7.72-7.72 1.47 1.35L5.41 20z\"/>\n",
              "  </svg>\n",
              "      </button>\n",
              "      \n",
              "  <style>\n",
              "    .colab-df-container {\n",
              "      display:flex;\n",
              "      flex-wrap:wrap;\n",
              "      gap: 12px;\n",
              "    }\n",
              "\n",
              "    .colab-df-convert {\n",
              "      background-color: #E8F0FE;\n",
              "      border: none;\n",
              "      border-radius: 50%;\n",
              "      cursor: pointer;\n",
              "      display: none;\n",
              "      fill: #1967D2;\n",
              "      height: 32px;\n",
              "      padding: 0 0 0 0;\n",
              "      width: 32px;\n",
              "    }\n",
              "\n",
              "    .colab-df-convert:hover {\n",
              "      background-color: #E2EBFA;\n",
              "      box-shadow: 0px 1px 2px rgba(60, 64, 67, 0.3), 0px 1px 3px 1px rgba(60, 64, 67, 0.15);\n",
              "      fill: #174EA6;\n",
              "    }\n",
              "\n",
              "    [theme=dark] .colab-df-convert {\n",
              "      background-color: #3B4455;\n",
              "      fill: #D2E3FC;\n",
              "    }\n",
              "\n",
              "    [theme=dark] .colab-df-convert:hover {\n",
              "      background-color: #434B5C;\n",
              "      box-shadow: 0px 1px 3px 1px rgba(0, 0, 0, 0.15);\n",
              "      filter: drop-shadow(0px 1px 2px rgba(0, 0, 0, 0.3));\n",
              "      fill: #FFFFFF;\n",
              "    }\n",
              "  </style>\n",
              "\n",
              "      <script>\n",
              "        const buttonEl =\n",
              "          document.querySelector('#df-b5abc092-2f91-4f81-bcbc-f2d3af34fbfe button.colab-df-convert');\n",
              "        buttonEl.style.display =\n",
              "          google.colab.kernel.accessAllowed ? 'block' : 'none';\n",
              "\n",
              "        async function convertToInteractive(key) {\n",
              "          const element = document.querySelector('#df-b5abc092-2f91-4f81-bcbc-f2d3af34fbfe');\n",
              "          const dataTable =\n",
              "            await google.colab.kernel.invokeFunction('convertToInteractive',\n",
              "                                                     [key], {});\n",
              "          if (!dataTable) return;\n",
              "\n",
              "          const docLinkHtml = 'Like what you see? Visit the ' +\n",
              "            '<a target=\"_blank\" href=https://colab.research.google.com/notebooks/data_table.ipynb>data table notebook</a>'\n",
              "            + ' to learn more about interactive tables.';\n",
              "          element.innerHTML = '';\n",
              "          dataTable['output_type'] = 'display_data';\n",
              "          await google.colab.output.renderOutput(dataTable, element);\n",
              "          const docLink = document.createElement('div');\n",
              "          docLink.innerHTML = docLinkHtml;\n",
              "          element.appendChild(docLink);\n",
              "        }\n",
              "      </script>\n",
              "    </div>\n",
              "  </div>\n",
              "  "
            ],
            "text/plain": [
              "Area code  408  415  510\n",
              "State                   \n",
              "AK          14   24   14\n",
              "AL          25   40   15\n",
              "AR          13   27   15\n",
              "AZ          15   36   13\n",
              "CA           7   17   10\n",
              "CO          25   29   12\n",
              "CT          22   39   13\n",
              "DC          14   27   13\n",
              "DE          13   31   17\n",
              "FL          12   31   20\n",
              "GA          15   21   18\n",
              "HI          15   30    8\n",
              "IA           8   20   16\n",
              "ID          12   41   20\n",
              "IL          15   28   15\n",
              "IN          18   33   20\n",
              "KS          12   37   21\n",
              "KY          15   32   12\n",
              "LA          13   27   11\n",
              "MA          24   29   12\n",
              "MD          16   39   15\n",
              "ME          15   25   22\n",
              "MI          12   39   22\n",
              "MN          20   40   24\n",
              "MO          15   37   11\n",
              "MS          15   31   19\n",
              "MT          17   34   17\n",
              "NC          25   28   15\n",
              "ND          19   28   15\n",
              "NE          13   34   14\n",
              "NH          25   19   12\n",
              "NJ          15   34   19\n",
              "NM          16   35   11\n",
              "NV          14   34   18\n",
              "NY          19   47   17\n",
              "OH          22   40   16\n",
              "OK          17   27   17\n",
              "OR          14   44   20\n",
              "PA          14   19   12\n",
              "RI          12   35   18\n",
              "SC          13   30   17\n",
              "SD          16   28   16\n",
              "TN          11   30   12\n",
              "TX          20   37   15\n",
              "UT          12   37   23\n",
              "VA          25   35   17\n",
              "VT          17   36   20\n",
              "WA          23   26   17\n",
              "WI          22   35   21\n",
              "WV          20   52   34\n",
              "WY          17   41   19"
            ]
          },
          "metadata": {},
          "execution_count": 13
        }
      ]
    },
    {
      "cell_type": "code",
      "source": [
        "# Plot subplot to check out total number of customers in the state with the respective area code\n",
        "customer_by_code.plot(kind='bar',color=['r','g','b'])\n",
        "plt.rcParams['figure.figsize']=(20,5)\n",
        "plt.grid()\n",
        "font1 = {'family':'serif','color':'blue','size':20}\n",
        "font2 = {'family':'serif','color':'darkred','size':15}\n",
        "plt.title('Total number of Customers in the state with the respective area code',fontdict=font1)\n",
        "plt.xlabel('States',fontdict=font2)\n",
        "plt.ylabel('Number Of Customers',fontdict=font2)"
      ],
      "metadata": {
        "colab": {
          "base_uri": "https://localhost:8080/",
          "height": 438
        },
        "id": "iMyBi4cZr44C",
        "outputId": "ec33e747-7222-4874-98c7-c2246a7f4b0d"
      },
      "execution_count": null,
      "outputs": [
        {
          "output_type": "execute_result",
          "data": {
            "text/plain": [
              "Text(0, 0.5, 'Number Of Customers')"
            ]
          },
          "metadata": {},
          "execution_count": 14
        },
        {
          "output_type": "display_data",
          "data": {
            "image/png": "[encoded data removed]",
            "text/plain": [
              "<Figure size 1080x432 with 1 Axes>"
            ]
          },
          "metadata": {
            "needs_background": "light"
          }
        }
      ]
    },
    {
      "cell_type": "markdown",
      "source": [
        "### **Here we got the maximum number of customers according to area code - The area code 415 and 510 have maximum customers from West Virginia where the area code 408 have maximum number of cutomers from ALabama, Colorado, North Carolina, New Hampshire and Virginia.**"
      ],
      "metadata": {
        "id": "Y_973xQ7crly"
      }
    },
    {
      "cell_type": "code",
      "source": [
        "# Overall Customers with International plan\n",
        "int_plan=df['International plan'].value_counts()\n",
        "int_plan"
      ],
      "metadata": {
        "colab": {
          "base_uri": "https://localhost:8080/"
        },
        "id": "1pxXf80LO8co",
        "outputId": "cc65f54c-3bd0-411b-a201-e75b9827e4b1"
      },
      "execution_count": null,
      "outputs": [
        {
          "output_type": "execute_result",
          "data": {
            "text/plain": [
              "No     3010\n",
              "Yes     323\n",
              "Name: International plan, dtype: int64"
            ]
          },
          "metadata": {},
          "execution_count": 15
        }
      ]
    },
    {
      "cell_type": "code",
      "source": [
        "int_plan.plot(kind='line',marker='o')\n",
        "plt.xlabel('International Plan')\n",
        "plt.ylabel('Number of customers')\n",
        "plt.title('Number of customers with international plan')\n",
        "plt.rcParams['figure.figsize']=(5,5)\n",
        "plt.legend()"
      ],
      "metadata": {
        "colab": {
          "base_uri": "https://localhost:8080/",
          "height": 475
        },
        "id": "iwkiRjLIQRbW",
        "outputId": "9f37eb80-4dfa-4620-bbc7-40c393dd029e"
      },
      "execution_count": null,
      "outputs": [
        {
          "output_type": "execute_result",
          "data": {
            "text/plain": [
              "<matplotlib.legend.Legend at 0x7f6da6044650>"
            ]
          },
          "metadata": {},
          "execution_count": 41
        },
        {
          "output_type": "display_data",
          "data": {
            "image/png": "[encoded data removed]",
            "text/plain": [
              "<Figure size 720x504 with 1 Axes>"
            ]
          },
          "metadata": {
            "needs_background": "light"
          }
        }
      ]
    },
    {
      "cell_type": "markdown",
      "source": [
        "### **Out of 3333 customers, only 323 customers using international plan.**"
      ],
      "metadata": {
        "id": "4wleDfnMabUs"
      }
    },
    {
      "cell_type": "code",
      "source": [
        "# Let us find out customers having international plan across all the states\n",
        "df.groupby('State')['International plan'].value_counts().unstack()"
      ],
      "metadata": {
        "colab": {
          "base_uri": "https://localhost:8080/",
          "height": 1000
        },
        "id": "fNWEw5lzvpsG",
        "outputId": "de087d4b-c9e9-427d-9b34-3763fecfd74c"
      },
      "execution_count": null,
      "outputs": [
        {
          "output_type": "execute_result",
          "data": {
            "text/html": [
              "\n",
              "  <div id=\"df-c10e10d7-48a8-4e52-a303-98ed1931142a\">\n",
              "    <div class=\"colab-df-container\">\n",
              "      <div>\n",
              "<style scoped>\n",
              "    .dataframe tbody tr th:only-of-type {\n",
              "        vertical-align: middle;\n",
              "    }\n",
              "\n",
              "    .dataframe tbody tr th {\n",
              "        vertical-align: top;\n",
              "    }\n",
              "\n",
              "    .dataframe thead th {\n",
              "        text-align: right;\n",
              "    }\n",
              "</style>\n",
              "<table border=\"1\" class=\"dataframe\">\n",
              "  <thead>\n",
              "    <tr style=\"text-align: right;\">\n",
              "      <th>International plan</th>\n",
              "      <th>No</th>\n",
              "      <th>Yes</th>\n",
              "    </tr>\n",
              "    <tr>\n",
              "      <th>State</th>\n",
              "      <th></th>\n",
              "      <th></th>\n",
              "    </tr>\n",
              "  </thead>\n",
              "  <tbody>\n",
              "    <tr>\n",
              "      <th>AK</th>\n",
              "      <td>48.0</td>\n",
              "      <td>4.0</td>\n",
              "    </tr>\n",
              "    <tr>\n",
              "      <th>AL</th>\n",
              "      <td>72.0</td>\n",
              "      <td>8.0</td>\n",
              "    </tr>\n",
              "    <tr>\n",
              "      <th>AR</th>\n",
              "      <td>47.0</td>\n",
              "      <td>8.0</td>\n",
              "    </tr>\n",
              "    <tr>\n",
              "      <th>AZ</th>\n",
              "      <td>61.0</td>\n",
              "      <td>3.0</td>\n",
              "    </tr>\n",
              "    <tr>\n",
              "      <th>CA</th>\n",
              "      <td>30.0</td>\n",
              "      <td>4.0</td>\n",
              "    </tr>\n",
              "    <tr>\n",
              "      <th>CO</th>\n",
              "      <td>62.0</td>\n",
              "      <td>4.0</td>\n",
              "    </tr>\n",
              "    <tr>\n",
              "      <th>CT</th>\n",
              "      <td>66.0</td>\n",
              "      <td>8.0</td>\n",
              "    </tr>\n",
              "    <tr>\n",
              "      <th>DC</th>\n",
              "      <td>49.0</td>\n",
              "      <td>5.0</td>\n",
              "    </tr>\n",
              "    <tr>\n",
              "      <th>DE</th>\n",
              "      <td>51.0</td>\n",
              "      <td>10.0</td>\n",
              "    </tr>\n",
              "    <tr>\n",
              "      <th>FL</th>\n",
              "      <td>55.0</td>\n",
              "      <td>8.0</td>\n",
              "    </tr>\n",
              "    <tr>\n",
              "      <th>GA</th>\n",
              "      <td>50.0</td>\n",
              "      <td>4.0</td>\n",
              "    </tr>\n",
              "    <tr>\n",
              "      <th>HI</th>\n",
              "      <td>50.0</td>\n",
              "      <td>3.0</td>\n",
              "    </tr>\n",
              "    <tr>\n",
              "      <th>IA</th>\n",
              "      <td>44.0</td>\n",
              "      <td>NaN</td>\n",
              "    </tr>\n",
              "    <tr>\n",
              "      <th>ID</th>\n",
              "      <td>67.0</td>\n",
              "      <td>6.0</td>\n",
              "    </tr>\n",
              "    <tr>\n",
              "      <th>IL</th>\n",
              "      <td>43.0</td>\n",
              "      <td>15.0</td>\n",
              "    </tr>\n",
              "    <tr>\n",
              "      <th>IN</th>\n",
              "      <td>68.0</td>\n",
              "      <td>3.0</td>\n",
              "    </tr>\n",
              "    <tr>\n",
              "      <th>KS</th>\n",
              "      <td>62.0</td>\n",
              "      <td>8.0</td>\n",
              "    </tr>\n",
              "    <tr>\n",
              "      <th>KY</th>\n",
              "      <td>55.0</td>\n",
              "      <td>4.0</td>\n",
              "    </tr>\n",
              "    <tr>\n",
              "      <th>LA</th>\n",
              "      <td>50.0</td>\n",
              "      <td>1.0</td>\n",
              "    </tr>\n",
              "    <tr>\n",
              "      <th>MA</th>\n",
              "      <td>57.0</td>\n",
              "      <td>8.0</td>\n",
              "    </tr>\n",
              "    <tr>\n",
              "      <th>MD</th>\n",
              "      <td>60.0</td>\n",
              "      <td>10.0</td>\n",
              "    </tr>\n",
              "    <tr>\n",
              "      <th>ME</th>\n",
              "      <td>56.0</td>\n",
              "      <td>6.0</td>\n",
              "    </tr>\n",
              "    <tr>\n",
              "      <th>MI</th>\n",
              "      <td>64.0</td>\n",
              "      <td>9.0</td>\n",
              "    </tr>\n",
              "    <tr>\n",
              "      <th>MN</th>\n",
              "      <td>76.0</td>\n",
              "      <td>8.0</td>\n",
              "    </tr>\n",
              "    <tr>\n",
              "      <th>MO</th>\n",
              "      <td>57.0</td>\n",
              "      <td>6.0</td>\n",
              "    </tr>\n",
              "    <tr>\n",
              "      <th>MS</th>\n",
              "      <td>57.0</td>\n",
              "      <td>8.0</td>\n",
              "    </tr>\n",
              "    <tr>\n",
              "      <th>MT</th>\n",
              "      <td>66.0</td>\n",
              "      <td>2.0</td>\n",
              "    </tr>\n",
              "    <tr>\n",
              "      <th>NC</th>\n",
              "      <td>57.0</td>\n",
              "      <td>11.0</td>\n",
              "    </tr>\n",
              "    <tr>\n",
              "      <th>ND</th>\n",
              "      <td>54.0</td>\n",
              "      <td>8.0</td>\n",
              "    </tr>\n",
              "    <tr>\n",
              "      <th>NE</th>\n",
              "      <td>58.0</td>\n",
              "      <td>3.0</td>\n",
              "    </tr>\n",
              "    <tr>\n",
              "      <th>NH</th>\n",
              "      <td>52.0</td>\n",
              "      <td>4.0</td>\n",
              "    </tr>\n",
              "    <tr>\n",
              "      <th>NJ</th>\n",
              "      <td>62.0</td>\n",
              "      <td>6.0</td>\n",
              "    </tr>\n",
              "    <tr>\n",
              "      <th>NM</th>\n",
              "      <td>57.0</td>\n",
              "      <td>5.0</td>\n",
              "    </tr>\n",
              "    <tr>\n",
              "      <th>NV</th>\n",
              "      <td>57.0</td>\n",
              "      <td>9.0</td>\n",
              "    </tr>\n",
              "    <tr>\n",
              "      <th>NY</th>\n",
              "      <td>75.0</td>\n",
              "      <td>8.0</td>\n",
              "    </tr>\n",
              "    <tr>\n",
              "      <th>OH</th>\n",
              "      <td>69.0</td>\n",
              "      <td>9.0</td>\n",
              "    </tr>\n",
              "    <tr>\n",
              "      <th>OK</th>\n",
              "      <td>56.0</td>\n",
              "      <td>5.0</td>\n",
              "    </tr>\n",
              "    <tr>\n",
              "      <th>OR</th>\n",
              "      <td>71.0</td>\n",
              "      <td>7.0</td>\n",
              "    </tr>\n",
              "    <tr>\n",
              "      <th>PA</th>\n",
              "      <td>39.0</td>\n",
              "      <td>6.0</td>\n",
              "    </tr>\n",
              "    <tr>\n",
              "      <th>RI</th>\n",
              "      <td>55.0</td>\n",
              "      <td>10.0</td>\n",
              "    </tr>\n",
              "    <tr>\n",
              "      <th>SC</th>\n",
              "      <td>58.0</td>\n",
              "      <td>2.0</td>\n",
              "    </tr>\n",
              "    <tr>\n",
              "      <th>SD</th>\n",
              "      <td>55.0</td>\n",
              "      <td>5.0</td>\n",
              "    </tr>\n",
              "    <tr>\n",
              "      <th>TN</th>\n",
              "      <td>47.0</td>\n",
              "      <td>6.0</td>\n",
              "    </tr>\n",
              "    <tr>\n",
              "      <th>TX</th>\n",
              "      <td>66.0</td>\n",
              "      <td>6.0</td>\n",
              "    </tr>\n",
              "    <tr>\n",
              "      <th>UT</th>\n",
              "      <td>66.0</td>\n",
              "      <td>6.0</td>\n",
              "    </tr>\n",
              "    <tr>\n",
              "      <th>VA</th>\n",
              "      <td>68.0</td>\n",
              "      <td>9.0</td>\n",
              "    </tr>\n",
              "    <tr>\n",
              "      <th>VT</th>\n",
              "      <td>67.0</td>\n",
              "      <td>6.0</td>\n",
              "    </tr>\n",
              "    <tr>\n",
              "      <th>WA</th>\n",
              "      <td>62.0</td>\n",
              "      <td>4.0</td>\n",
              "    </tr>\n",
              "    <tr>\n",
              "      <th>WI</th>\n",
              "      <td>70.0</td>\n",
              "      <td>8.0</td>\n",
              "    </tr>\n",
              "    <tr>\n",
              "      <th>WV</th>\n",
              "      <td>99.0</td>\n",
              "      <td>7.0</td>\n",
              "    </tr>\n",
              "    <tr>\n",
              "      <th>WY</th>\n",
              "      <td>67.0</td>\n",
              "      <td>10.0</td>\n",
              "    </tr>\n",
              "  </tbody>\n",
              "</table>\n",
              "</div>\n",
              "      <button class=\"colab-df-convert\" onclick=\"convertToInteractive('df-c10e10d7-48a8-4e52-a303-98ed1931142a')\"\n",
              "              title=\"Convert this dataframe to an interactive table.\"\n",
              "              style=\"display:none;\">\n",
              "        \n",
              "  <svg xmlns=\"http://www.w3.org/2000/svg\" height=\"24px\"viewBox=\"0 0 24 24\"\n",
              "       width=\"24px\">\n",
              "    <path d=\"M0 0h24v24H0V0z\" fill=\"none\"/>\n",
              "    <path d=\"M18.56 5.44l.94 2.06.94-2.06 2.06-.94-2.06-.94-.94-2.06-.94 2.06-2.06.94zm-11 1L8.5 8.5l.94-2.06 2.06-.94-2.06-.94L8.5 2.5l-.94 2.06-2.06.94zm10 10l.94 2.06.94-2.06 2.06-.94-2.06-.94-.94-2.06-.94 2.06-2.06.94z\"/><path d=\"M17.41 7.96l-1.37-1.37c-.4-.4-.92-.59-1.43-.59-.52 0-1.04.2-1.43.59L10.3 9.45l-7.72 7.72c-.78.78-.78 2.05 0 2.83L4 21.41c.39.39.9.59 1.41.59.51 0 1.02-.2 1.41-.59l7.78-7.78 2.81-2.81c.8-.78.8-2.07 0-2.86zM5.41 20L4 18.59l7.72-7.72 1.47 1.35L5.41 20z\"/>\n",
              "  </svg>\n",
              "      </button>\n",
              "      \n",
              "  <style>\n",
              "    .colab-df-container {\n",
              "      display:flex;\n",
              "      flex-wrap:wrap;\n",
              "      gap: 12px;\n",
              "    }\n",
              "\n",
              "    .colab-df-convert {\n",
              "      background-color: #E8F0FE;\n",
              "      border: none;\n",
              "      border-radius: 50%;\n",
              "      cursor: pointer;\n",
              "      display: none;\n",
              "      fill: #1967D2;\n",
              "      height: 32px;\n",
              "      padding: 0 0 0 0;\n",
              "      width: 32px;\n",
              "    }\n",
              "\n",
              "    .colab-df-convert:hover {\n",
              "      background-color: #E2EBFA;\n",
              "      box-shadow: 0px 1px 2px rgba(60, 64, 67, 0.3), 0px 1px 3px 1px rgba(60, 64, 67, 0.15);\n",
              "      fill: #174EA6;\n",
              "    }\n",
              "\n",
              "    [theme=dark] .colab-df-convert {\n",
              "      background-color: #3B4455;\n",
              "      fill: #D2E3FC;\n",
              "    }\n",
              "\n",
              "    [theme=dark] .colab-df-convert:hover {\n",
              "      background-color: #434B5C;\n",
              "      box-shadow: 0px 1px 3px 1px rgba(0, 0, 0, 0.15);\n",
              "      filter: drop-shadow(0px 1px 2px rgba(0, 0, 0, 0.3));\n",
              "      fill: #FFFFFF;\n",
              "    }\n",
              "  </style>\n",
              "\n",
              "      <script>\n",
              "        const buttonEl =\n",
              "          document.querySelector('#df-c10e10d7-48a8-4e52-a303-98ed1931142a button.colab-df-convert');\n",
              "        buttonEl.style.display =\n",
              "          google.colab.kernel.accessAllowed ? 'block' : 'none';\n",
              "\n",
              "        async function convertToInteractive(key) {\n",
              "          const element = document.querySelector('#df-c10e10d7-48a8-4e52-a303-98ed1931142a');\n",
              "          const dataTable =\n",
              "            await google.colab.kernel.invokeFunction('convertToInteractive',\n",
              "                                                     [key], {});\n",
              "          if (!dataTable) return;\n",
              "\n",
              "          const docLinkHtml = 'Like what you see? Visit the ' +\n",
              "            '<a target=\"_blank\" href=https://colab.research.google.com/notebooks/data_table.ipynb>data table notebook</a>'\n",
              "            + ' to learn more about interactive tables.';\n",
              "          element.innerHTML = '';\n",
              "          dataTable['output_type'] = 'display_data';\n",
              "          await google.colab.output.renderOutput(dataTable, element);\n",
              "          const docLink = document.createElement('div');\n",
              "          docLink.innerHTML = docLinkHtml;\n",
              "          element.appendChild(docLink);\n",
              "        }\n",
              "      </script>\n",
              "    </div>\n",
              "  </div>\n",
              "  "
            ],
            "text/plain": [
              "International plan    No   Yes\n",
              "State                         \n",
              "AK                  48.0   4.0\n",
              "AL                  72.0   8.0\n",
              "AR                  47.0   8.0\n",
              "AZ                  61.0   3.0\n",
              "CA                  30.0   4.0\n",
              "CO                  62.0   4.0\n",
              "CT                  66.0   8.0\n",
              "DC                  49.0   5.0\n",
              "DE                  51.0  10.0\n",
              "FL                  55.0   8.0\n",
              "GA                  50.0   4.0\n",
              "HI                  50.0   3.0\n",
              "IA                  44.0   NaN\n",
              "ID                  67.0   6.0\n",
              "IL                  43.0  15.0\n",
              "IN                  68.0   3.0\n",
              "KS                  62.0   8.0\n",
              "KY                  55.0   4.0\n",
              "LA                  50.0   1.0\n",
              "MA                  57.0   8.0\n",
              "MD                  60.0  10.0\n",
              "ME                  56.0   6.0\n",
              "MI                  64.0   9.0\n",
              "MN                  76.0   8.0\n",
              "MO                  57.0   6.0\n",
              "MS                  57.0   8.0\n",
              "MT                  66.0   2.0\n",
              "NC                  57.0  11.0\n",
              "ND                  54.0   8.0\n",
              "NE                  58.0   3.0\n",
              "NH                  52.0   4.0\n",
              "NJ                  62.0   6.0\n",
              "NM                  57.0   5.0\n",
              "NV                  57.0   9.0\n",
              "NY                  75.0   8.0\n",
              "OH                  69.0   9.0\n",
              "OK                  56.0   5.0\n",
              "OR                  71.0   7.0\n",
              "PA                  39.0   6.0\n",
              "RI                  55.0  10.0\n",
              "SC                  58.0   2.0\n",
              "SD                  55.0   5.0\n",
              "TN                  47.0   6.0\n",
              "TX                  66.0   6.0\n",
              "UT                  66.0   6.0\n",
              "VA                  68.0   9.0\n",
              "VT                  67.0   6.0\n",
              "WA                  62.0   4.0\n",
              "WI                  70.0   8.0\n",
              "WV                  99.0   7.0\n",
              "WY                  67.0  10.0"
            ]
          },
          "metadata": {},
          "execution_count": 17
        }
      ]
    },
    {
      "cell_type": "code",
      "source": [
        "# plot representing the customers with and without international plan across different states\n",
        "sns.countplot(x='State',hue='International plan', data=df)\n",
        "plt.grid()"
      ],
      "metadata": {
        "colab": {
          "base_uri": "https://localhost:8080/",
          "height": 388
        },
        "id": "0y2yoH30cC7_",
        "outputId": "07d66fb7-a4fc-43af-9c1c-611464578cbe"
      },
      "execution_count": null,
      "outputs": [
        {
          "output_type": "display_data",
          "data": {
            "image/png": "[encoded data removed]",
            "text/plain": [
              "<Figure size 1080x432 with 1 Axes>"
            ]
          },
          "metadata": {
            "needs_background": "light"
          }
        }
      ]
    },
    {
      "cell_type": "markdown",
      "source": [
        "### **From this plot we can say that Illinois have the maximum customers which are using international plan where Louisiana have negligible and Iowa have not any customers.** "
      ],
      "metadata": {
        "id": "ZWx_VMfdzIE2"
      }
    },
    {
      "cell_type": "code",
      "source": [
        "# Counting customers using voice mail plan\n",
        "customers_voice_mail_plan=df['Voice mail plan'].value_counts()\n",
        "customers_voice_mail_plan"
      ],
      "metadata": {
        "id": "ZK5-Nrn2gyjs",
        "colab": {
          "base_uri": "https://localhost:8080/"
        },
        "outputId": "9af0c620-c416-4407-f9b2-507e2c454fce"
      },
      "execution_count": null,
      "outputs": [
        {
          "output_type": "execute_result",
          "data": {
            "text/plain": [
              "No     2411\n",
              "Yes     922\n",
              "Name: Voice mail plan, dtype: int64"
            ]
          },
          "metadata": {},
          "execution_count": 19
        }
      ]
    },
    {
      "cell_type": "code",
      "source": [
        "# Plotting the bar graph to check either customers using voice mail plan or not\n",
        "customers_voice_mail_plan.plot(kind='bar',color='g')\n",
        "plt.grid()\n",
        "plt.rcParams['figure.figsize']=(10,7)\n",
        "font1 = {'family':'serif','color':'blue','size':20}\n",
        "font2 = {'family':'serif','color':'darkred','size':15}\n",
        "plt.title('Total number Of Customers Using Voice Mail Plan Or Not',fontdict=font1)\n",
        "plt.xlabel('Voice Mail Plan',fontdict=font2)\n",
        "plt.ylabel('Number Of Customers',fontdict=font2)"
      ],
      "metadata": {
        "colab": {
          "base_uri": "https://localhost:8080/",
          "height": 382
        },
        "id": "oTwbkjesxPjz",
        "outputId": "a6902538-146f-4430-eac4-61fffbb03ec0"
      },
      "execution_count": null,
      "outputs": [
        {
          "output_type": "execute_result",
          "data": {
            "text/plain": [
              "Text(0, 0.5, 'Number Of Customers')"
            ]
          },
          "metadata": {},
          "execution_count": 20
        },
        {
          "output_type": "display_data",
          "data": {
            "image/png": "[encoded data removed]",
            "text/plain": [
              "<Figure size 360x360 with 1 Axes>"
            ]
          },
          "metadata": {
            "needs_background": "light"
          }
        }
      ]
    },
    {
      "cell_type": "markdown",
      "source": [
        "### **There are only 922 customers which are using voice mail plan in all state where 2411 customers are there which are not using the voice mail plan.**"
      ],
      "metadata": {
        "id": "xKhJEBuu4FNR"
      }
    },
    {
      "cell_type": "code",
      "source": [
        "# Figure out total number of vmail messages per day\n",
        "number_vmail=df.groupby('State')['Number vmail messages'].sum().sort_values()\n",
        "number_vmail"
      ],
      "metadata": {
        "colab": {
          "base_uri": "https://localhost:8080/"
        },
        "id": "ZjDb-nsY2KLK",
        "outputId": "ba865dd9-620e-48d0-b3dd-6bb6905ffaa3"
      },
      "execution_count": null,
      "outputs": [
        {
          "output_type": "execute_result",
          "data": {
            "text/plain": [
              "State\n",
              "WA    301\n",
              "CA    306\n",
              "PA    337\n",
              "IA    343\n",
              "TN    373\n",
              "AR    396\n",
              "NM    400\n",
              "LA    403\n",
              "KY    413\n",
              "HI    417\n",
              "DE    425\n",
              "IL    428\n",
              "NV    449\n",
              "NH    463\n",
              "TX    464\n",
              "AK    471\n",
              "RI    476\n",
              "VT    478\n",
              "OR    482\n",
              "ME    490\n",
              "MO    500\n",
              "WY    502\n",
              "NY    509\n",
              "MA    514\n",
              "SC    521\n",
              "NE    522\n",
              "DC    526\n",
              "OK    528\n",
              "KS    533\n",
              "GA    541\n",
              "VA    542\n",
              "CO    552\n",
              "MD    571\n",
              "AL    574\n",
              "IN    585\n",
              "FL    596\n",
              "AZ    606\n",
              "UT    612\n",
              "MS    614\n",
              "MI    617\n",
              "NC    618\n",
              "NJ    625\n",
              "SD    626\n",
              "ND    633\n",
              "MT    635\n",
              "WI    646\n",
              "CT    671\n",
              "MN    694\n",
              "ID    746\n",
              "OH    795\n",
              "WV    925\n",
              "Name: Number vmail messages, dtype: int64"
            ]
          },
          "metadata": {},
          "execution_count": 21
        }
      ]
    },
    {
      "cell_type": "code",
      "source": [
        "# Using bar graph to show number of vmail in each country\n",
        "number_vmail.plot(kind='bar',width=0.6)\n",
        "plt.ylabel('number of vmail')\n",
        "plt.title('Number of vmail through different states per day')"
      ],
      "metadata": {
        "colab": {
          "base_uri": "https://localhost:8080/",
          "height": 482
        },
        "id": "WLgXnuo86Rst",
        "outputId": "6751b692-7bab-4921-980f-2ddde6195daa"
      },
      "execution_count": null,
      "outputs": [
        {
          "output_type": "execute_result",
          "data": {
            "text/plain": [
              "Text(0.5, 1.0, 'Number of vmail through different states per day')"
            ]
          },
          "metadata": {},
          "execution_count": 22
        },
        {
          "output_type": "display_data",
          "data": {
            "image/png": "[encoded data removed]",
            "text/plain": [
              "<Figure size 720x504 with 1 Axes>"
            ]
          },
          "metadata": {
            "needs_background": "light"
          }
        }
      ]
    },
    {
      "cell_type": "markdown",
      "source": [
        "### **West Virginia have the highest number of vmails 925/day, Ohio have 795/day on second position where Washington have lowest number of vmails 301/day.**"
      ],
      "metadata": {
        "id": "AaDBfUBW9iPQ"
      }
    },
    {
      "cell_type": "code",
      "source": [
        "# Exploring max. and min. total day calls\n",
        "total_day_calls_max=df.groupby('State')['Total day calls'].sum().sort_values(ascending=False).head()\n",
        "total_day_calls_min=df.groupby('State')['Total day calls'].sum().sort_values(ascending=False).tail()\n",
        "print(total_day_calls_max)\n",
        "print(total_day_calls_min)"
      ],
      "metadata": {
        "colab": {
          "base_uri": "https://localhost:8080/"
        },
        "id": "WG4q-ZhrFL_8",
        "outputId": "d2788c2a-2edd-47ef-d1cb-ee1083ec062f"
      },
      "execution_count": null,
      "outputs": [
        {
          "output_type": "stream",
          "name": "stdout",
          "text": [
            "State\n",
            "WV    11001\n",
            "MN     8326\n",
            "NY     8154\n",
            "VA     8113\n",
            "AL     7928\n",
            "Name: Total day calls, dtype: int64\n",
            "State\n",
            "LA    5279\n",
            "AK    4954\n",
            "IA    4534\n",
            "PA    4439\n",
            "CA    3553\n",
            "Name: Total day calls, dtype: int64\n"
          ]
        }
      ]
    },
    {
      "cell_type": "code",
      "source": [
        "# Exploring max. and min. total day charges\n",
        "total_day_charge_max=df.groupby('State')['Total day charge'].sum().sort_values(ascending=False).head()\n",
        "print(total_day_charge_max)\n",
        "total_day_charge_min=df.groupby('State')['Total day charge'].sum().sort_values(ascending=False).tail()\n",
        "print(total_day_charge_min)"
      ],
      "metadata": {
        "colab": {
          "base_uri": "https://localhost:8080/"
        },
        "id": "IDp_wq_bH69G",
        "outputId": "6ba706b6-09ba-495e-b65e-d0c8a7d04af3"
      },
      "execution_count": null,
      "outputs": [
        {
          "output_type": "stream",
          "name": "stdout",
          "text": [
            "State\n",
            "WV    3134.67\n",
            "MN    2618.36\n",
            "AL    2529.72\n",
            "NY    2470.94\n",
            "OH    2430.29\n",
            "Name: Total day charge, dtype: float64\n",
            "State\n",
            "DC    1573.31\n",
            "LA    1546.56\n",
            "PA    1441.10\n",
            "IA    1328.60\n",
            "CA    1061.01\n",
            "Name: Total day charge, dtype: float64\n"
          ]
        }
      ]
    },
    {
      "cell_type": "code",
      "source": [
        "# Subplots for max. and min. total day calls and charges\n",
        "font1 = {'family':'serif','color':'blue','size':15}\n",
        "font2 = {'family':'serif','color':'darkred','size':15}\n",
        "font3 = {'family':'serif','color':'darkgreen','size':15}\n",
        "\n",
        "# Max.Calls\n",
        "plt.subplot(2,2,1)\n",
        "plt.plot(total_day_calls_max,marker='o')\n",
        "plt.title('Total Day Calls Max.(Top 5)',fontdict=font1)\n",
        "plt.ylabel('Max.Calls',fontdict=font2)\n",
        "\n",
        "# Max. Charges\n",
        "plt.subplot(2,2,2)\n",
        "plt.plot(total_day_charge_max,marker='o')\n",
        "plt.title('Total Day Charge Max.(Top 5)',fontdict=font1)\n",
        "plt.ylabel('Max.Charges',fontdict=font2)\n",
        "\n",
        "# Min. Calls\n",
        "plt.subplot(2,2,3)\n",
        "plt.plot(total_day_calls_min,marker='o')\n",
        "plt.xlabel('State',fontdict=font2)\n",
        "plt.title('Total Day Calls Min.(Top 5)',fontdict=font1)\n",
        "plt.ylabel('Min.Calls',fontdict=font2)\n",
        "\n",
        "# Min. Charges\n",
        "plt.subplot(2,2,4)\n",
        "plt.plot(total_day_charge_min,marker='o')\n",
        "plt.xlabel('State',fontdict=font2)\n",
        "plt.title('Total Day Charge Min.(Top 5)',fontdict=font1)\n",
        "plt.ylabel('Min.Charges',fontdict=font2)\n",
        "plt.suptitle('Max. and Min. total day calls and charges',fontdict=font3)\n",
        "\n",
        "plt.subplots_adjust(left=0.1, bottom=0.1, right=0.9, top=0.9, wspace=0.4, hspace=0.4)"
      ],
      "metadata": {
        "colab": {
          "base_uri": "https://localhost:8080/",
          "height": 509
        },
        "id": "RGe_5npIIOXy",
        "outputId": "dded5776-38fc-4e20-e527-32a70643e378"
      },
      "execution_count": null,
      "outputs": [
        {
          "output_type": "display_data",
          "data": {
            "image/png": "[encoded data removed]",
            "text/plain": [
              "<Figure size 720x504 with 4 Axes>"
            ]
          },
          "metadata": {
            "needs_background": "light"
          }
        }
      ]
    },
    {
      "cell_type": "markdown",
      "source": [
        "### **West Virginia, Minnesota, New York, Virginia and Alabama are the top 5 states having maximum number of total day calls and West Virginia, Minnesota, Alabama, New York, Ohio are for charges where Louisiana, Alaska, Iowa, Pennsylvania, California are the top 5 states having minimum number of total day calls where DC, Louisiana, Pennsylvinia, Iowa, California are for charges.** "
      ],
      "metadata": {
        "id": "U6aDfhpYYooy"
      }
    },
    {
      "cell_type": "code",
      "source": [
        "# Exploring max. and min. total eve calls\n",
        "total_eve_calls_max=df.groupby('State')['Total eve calls'].sum().sort_values(ascending=False).head()\n",
        "total_eve_calls_min=df.groupby('State')['Total eve calls'].sum().sort_values(ascending=False).tail()\n",
        "print(total_eve_calls_max)\n",
        "print(total_eve_calls_min)"
      ],
      "metadata": {
        "colab": {
          "base_uri": "https://localhost:8080/"
        },
        "id": "ICuhtKzeSF71",
        "outputId": "f79fae18-bf22-477d-cab8-fc0b02ca7e75"
      },
      "execution_count": null,
      "outputs": [
        {
          "output_type": "stream",
          "name": "stdout",
          "text": [
            "State\n",
            "WV    10394\n",
            "MN     8538\n",
            "NY     8302\n",
            "OH     7894\n",
            "AL     7877\n",
            "Name: Total eve calls, dtype: int64\n",
            "State\n",
            "AK    5022\n",
            "LA    4928\n",
            "PA    4573\n",
            "IA    4380\n",
            "CA    3505\n",
            "Name: Total eve calls, dtype: int64\n"
          ]
        }
      ]
    },
    {
      "cell_type": "code",
      "source": [
        "# Exploring max. and min. total eve charges\n",
        "total_eve_charge_max=df.groupby('State')['Total eve charge'].sum().sort_values(ascending=False).head()\n",
        "print(total_eve_charge_max)\n",
        "total_eve_charge_min=df.groupby('State')['Total eve charge'].sum().sort_values(ascending=False).tail()\n",
        "print(total_eve_charge_min)"
      ],
      "metadata": {
        "colab": {
          "base_uri": "https://localhost:8080/"
        },
        "id": "6GQB8a7DTmAm",
        "outputId": "15370d1c-fa89-46bb-beb8-ca099d0e1e52"
      },
      "execution_count": null,
      "outputs": [
        {
          "output_type": "stream",
          "name": "stdout",
          "text": [
            "State\n",
            "WV    1697.56\n",
            "MN    1423.27\n",
            "NY    1389.79\n",
            "OH    1368.73\n",
            "WY    1347.14\n",
            "Name: Total eve charge, dtype: float64\n",
            "State\n",
            "LA    857.58\n",
            "AK    814.54\n",
            "IA    771.95\n",
            "PA    733.06\n",
            "CA    575.06\n",
            "Name: Total eve charge, dtype: float64\n"
          ]
        }
      ]
    },
    {
      "cell_type": "code",
      "source": [
        "# Subplots for max. and min. total eve calls and charges\n",
        "\n",
        "# Max.Calls\n",
        "plt.subplot(2,2,1)\n",
        "plt.plot(total_eve_calls_max,marker='o')\n",
        "plt.title('Total Eve Calls Max.(Top 5)',fontdict=font1)\n",
        "plt.ylabel('Max.Calls',fontdict=font2)\n",
        "\n",
        "# Max. Charges\n",
        "plt.subplot(2,2,2)\n",
        "plt.plot(total_eve_charge_max,marker='o')\n",
        "plt.title('Total Eve Charge Max.(Top 5)',fontdict=font1)\n",
        "plt.ylabel('Max.Charges',fontdict=font2)\n",
        "\n",
        "# Min. Calls\n",
        "plt.subplot(2,2,3)\n",
        "plt.plot(total_eve_calls_min,marker='o')\n",
        "plt.xlabel('State',fontdict=font2)\n",
        "plt.title('Total Eve Calls Min.(Top 5)',fontdict=font1)\n",
        "plt.ylabel('Min.Calls',fontdict=font2)\n",
        "\n",
        "# Min. Charges\n",
        "plt.subplot(2,2,4)\n",
        "plt.plot(total_eve_charge_min,marker='o')\n",
        "plt.xlabel('State',fontdict=font2)\n",
        "plt.title('Total Eve Charge Min.(Top 5)',fontdict=font1)\n",
        "plt.ylabel('Min.Charges',fontdict=font2)\n",
        "plt.suptitle('Max. and Min. total evening calls and charges',fontdict=font3)\n",
        "\n",
        "plt.subplots_adjust(left=0.1, bottom=0.1, right=0.9, top=0.9, wspace=0.4, hspace=0.4)"
      ],
      "metadata": {
        "colab": {
          "base_uri": "https://localhost:8080/",
          "height": 509
        },
        "id": "oAHdZPA6T8j2",
        "outputId": "7e94f854-5534-49a6-d9da-871d02e27a82"
      },
      "execution_count": null,
      "outputs": [
        {
          "output_type": "display_data",
          "data": {
            "image/png": "[encoded data removed]",
            "text/plain": [
              "<Figure size 720x504 with 4 Axes>"
            ]
          },
          "metadata": {
            "needs_background": "light"
          }
        }
      ]
    },
    {
      "cell_type": "markdown",
      "source": [
        "### **West Virginia, Minnesota, New York, Ohio, Alabama are the top 5 states having maximum number of total evening calls and West virginia, Minnesota, New York, Ohio, Wyoming are for charges where louisiana, Alaska, Pennsyilvia, Iowa, California are the top 5 states having minimum number of total calls and Louisiana, Alaska, Iowa, Pennsylvia, California are for charges.**"
      ],
      "metadata": {
        "id": "ijPDEocacwMr"
      }
    },
    {
      "cell_type": "code",
      "source": [
        "# Exploring max. and min. total night calls\n",
        "total_night_calls_max=df.groupby('State')['Total night calls'].sum().sort_values(ascending=False).head()\n",
        "total_night_calls_min=df.groupby('State')['Total night calls'].sum().sort_values(ascending=False).tail()\n",
        "print(total_night_calls_max)\n",
        "print(total_night_calls_min)"
      ],
      "metadata": {
        "colab": {
          "base_uri": "https://localhost:8080/"
        },
        "id": "Nl-453NNm5FX",
        "outputId": "8dc4e0b0-0b3d-44e1-c989-7e1d1628ab89"
      },
      "execution_count": null,
      "outputs": [
        {
          "output_type": "stream",
          "name": "stdout",
          "text": [
            "State\n",
            "WV    10660\n",
            "MN     8579\n",
            "NY     8251\n",
            "OH     8054\n",
            "OR     8009\n",
            "Name: Total night calls, dtype: int64\n",
            "State\n",
            "AK    5062\n",
            "TN    4996\n",
            "PA    4451\n",
            "IA    4406\n",
            "CA    3373\n",
            "Name: Total night calls, dtype: int64\n"
          ]
        }
      ]
    },
    {
      "cell_type": "code",
      "source": [
        "# Exploring max. and min. total night charges\n",
        "total_night_charge_max=df.groupby('State')['Total night charge'].sum().sort_values(ascending=False).head()\n",
        "print(total_night_charge_max)\n",
        "total_night_charge_min=df.groupby('State')['Total night charge'].sum().sort_values(ascending=False).tail()\n",
        "print(total_night_charge_min)"
      ],
      "metadata": {
        "colab": {
          "base_uri": "https://localhost:8080/"
        },
        "id": "JkbvV30YpkrS",
        "outputId": "c3b07410-1a16-4d63-eab9-9248b201661b"
      },
      "execution_count": null,
      "outputs": [
        {
          "output_type": "stream",
          "name": "stdout",
          "text": [
            "State\n",
            "WV    959.06\n",
            "MN    792.59\n",
            "NY    759.26\n",
            "VA    737.95\n",
            "OH    717.75\n",
            "Name: Total night charge, dtype: float64\n",
            "State\n",
            "LA    462.20\n",
            "AK    450.05\n",
            "PA    396.66\n",
            "IA    379.19\n",
            "CA    303.72\n",
            "Name: Total night charge, dtype: float64\n"
          ]
        }
      ]
    },
    {
      "cell_type": "code",
      "source": [
        "# Subplots for max. and min. total night calls and charges\n",
        "\n",
        "# Max.Calls\n",
        "plt.subplot(2,2,1)\n",
        "plt.plot(total_night_calls_max,marker='o')\n",
        "plt.title('Total Night Calls Max.(Top 5)',fontdict=font1)\n",
        "plt.ylabel('Max.Calls',fontdict=font2)\n",
        "\n",
        "# Max. Charges\n",
        "plt.subplot(2,2,2)\n",
        "plt.plot(total_night_charge_max,marker='o')\n",
        "plt.title('Total Night Charge Max.(Top 5)',fontdict=font1)\n",
        "plt.ylabel('Max.Charges',fontdict=font2)\n",
        "\n",
        "# Min. Calls\n",
        "plt.subplot(2,2,3)\n",
        "plt.plot(total_night_calls_min,marker='o')\n",
        "plt.xlabel('State',fontdict=font2)\n",
        "plt.title('Total Night Calls Min.(Top 5)',fontdict=font1)\n",
        "plt.ylabel('Min.Calls',fontdict=font2)\n",
        "\n",
        "# Min. Charges\n",
        "plt.subplot(2,2,4)\n",
        "plt.plot(total_night_charge_min,marker='o')\n",
        "plt.xlabel('State',fontdict=font2)\n",
        "plt.title('Total Night Charge Min.(Top 5)',fontdict=font1)\n",
        "plt.ylabel('Min.Charges',fontdict=font2)\n",
        "plt.suptitle('Max. and Min. total night calls and charges',fontdict=font3)\n",
        "\n",
        "plt.subplots_adjust(left=0.1, bottom=0.1, right=0.9, top=0.9, wspace=0.4, hspace=0.4) "
      ],
      "metadata": {
        "colab": {
          "base_uri": "https://localhost:8080/",
          "height": 509
        },
        "id": "x8YY7sbep8Bm",
        "outputId": "c5c58cee-7fa6-44a3-fbec-2bca18b5883a"
      },
      "execution_count": null,
      "outputs": [
        {
          "output_type": "display_data",
          "data": {
            "image/png": "[encoded data removed]",
            "text/plain": [
              "<Figure size 720x504 with 4 Axes>"
            ]
          },
          "metadata": {
            "needs_background": "light"
          }
        }
      ]
    },
    {
      "cell_type": "markdown",
      "source": [
        "### **West Nigeria, Minnesota, New York, Ohio, Oregon are the top 5 states having maximum number of total night calls and West Nigeria, Minnesota, New York, Virginia, Ohio are for charges where Alaska, Tenessee, Pennsylvia, Iowa, California are the top 5 states having maximum number of total calls Louisiana, Alaska, Pennsylvia, Iowa, California are for charges.**"
      ],
      "metadata": {
        "id": "CNg0Mvfcqwph"
      }
    },
    {
      "cell_type": "code",
      "source": [
        "# Exploring max. and min. total intl calls\n",
        "total_intl_calls_max=df.groupby('State')['Total intl calls'].sum().sort_values(ascending=False).head()\n",
        "total_intl_calls_min=df.groupby('State')['Total intl calls'].sum().sort_values(ascending=False).tail()\n",
        "print(total_intl_calls_max)\n",
        "print(total_intl_calls_min)"
      ],
      "metadata": {
        "colab": {
          "base_uri": "https://localhost:8080/"
        },
        "id": "IxC6HgcH0LeT",
        "outputId": "31b38f6e-e4c2-4e11-c994-dc1fbb6c26b8"
      },
      "execution_count": null,
      "outputs": [
        {
          "output_type": "stream",
          "name": "stdout",
          "text": [
            "State\n",
            "WV    468\n",
            "NY    385\n",
            "WY    383\n",
            "AL    376\n",
            "VA    365\n",
            "Name: Total intl calls, dtype: int64\n",
            "State\n",
            "GA    219\n",
            "DC    211\n",
            "IA    208\n",
            "PA    174\n",
            "CA    151\n",
            "Name: Total intl calls, dtype: int64\n"
          ]
        }
      ]
    },
    {
      "cell_type": "code",
      "source": [
        "# Exploring max. and min. total intl charges\n",
        "total_intl_charge_max=df.groupby('State')['Total intl charge'].sum().sort_values(ascending=False).head()\n",
        "print(total_intl_charge_max)\n",
        "total_intl_charge_min=df.groupby('State')['Total intl charge'].sum().sort_values(ascending=False).tail()\n",
        "print(total_intl_charge_min)"
      ],
      "metadata": {
        "colab": {
          "base_uri": "https://localhost:8080/"
        },
        "id": "u8J3CuPV0Vul",
        "outputId": "7f7885ec-4186-42cf-c4c7-f0168ac47271"
      },
      "execution_count": null,
      "outputs": [
        {
          "output_type": "stream",
          "name": "stdout",
          "text": [
            "State\n",
            "WV    288.19\n",
            "MN    236.97\n",
            "NY    223.78\n",
            "AL    222.32\n",
            "VA    220.55\n",
            "Name: Total intl charge, dtype: float64\n",
            "State\n",
            "AK    140.68\n",
            "LA    128.53\n",
            "PA    127.47\n",
            "IA    114.95\n",
            "CA     90.63\n",
            "Name: Total intl charge, dtype: float64\n"
          ]
        }
      ]
    },
    {
      "cell_type": "code",
      "source": [
        "# Subplots for max. and min. intl night calls and charges\n",
        "\n",
        "# Max.Calls\n",
        "plt.subplot(2,2,1)\n",
        "plt.plot(total_intl_calls_max,marker='o')\n",
        "plt.title('Total International Calls Max.(Top 5)',fontdict=font1)\n",
        "plt.ylabel('Max.Calls',fontdict=font2)\n",
        "\n",
        "# Max. Charges\n",
        "plt.subplot(2,2,2)\n",
        "plt.plot(total_intl_charge_max,marker='o')\n",
        "plt.title('Total International Charge Max.(Top 5)',fontdict=font1)\n",
        "plt.ylabel('Max.Charges',fontdict=font2)\n",
        "\n",
        "# Min. Calls\n",
        "plt.subplot(2,2,3)\n",
        "plt.plot(total_intl_calls_min,marker='o')\n",
        "plt.xlabel('State',fontdict=font2)\n",
        "plt.title('Total International Calls Min.(Top 5)',fontdict=font1)\n",
        "plt.ylabel('Min.Calls',fontdict=font2)\n",
        "\n",
        "# Min. Charges\n",
        "plt.subplot(2,2,4)\n",
        "plt.plot(total_intl_charge_min,marker='o')\n",
        "plt.xlabel('State',fontdict=font2)\n",
        "plt.title('Total International Charge Min.(Top 5)',fontdict=font1)\n",
        "plt.ylabel('Min.Charges',fontdict=font2)\n",
        "plt.suptitle('Max. and Min. total international calls and charges',fontdict=font3)\n",
        "\n",
        "plt.subplots_adjust(left=0.1, bottom=0.1, right=0.9, top=0.9, wspace=0.4, hspace=0.4)"
      ],
      "metadata": {
        "colab": {
          "base_uri": "https://localhost:8080/",
          "height": 509
        },
        "id": "cmMbnPAT0dub",
        "outputId": "db1b3e1b-6169-4958-d053-b31a5a8017b0"
      },
      "execution_count": null,
      "outputs": [
        {
          "output_type": "display_data",
          "data": {
            "image/png": "[encoded data removed]",
            "text/plain": [
              "<Figure size 720x504 with 4 Axes>"
            ]
          },
          "metadata": {
            "needs_background": "light"
          }
        }
      ]
    },
    {
      "cell_type": "markdown",
      "source": [
        "### **West Virginia, New York, Wyoming, Alaska, Virginia are the top 5 states having maximum number of total calls and West Virginia, Minnesota, New York, Alaska, Virginiaare for charges where Georgia, DC, Iowa, Pennsylvia, California are the top 5 states having maximum number of total calls and Alaska, Louisiana, Pennsylvia, Iowa, California are for charges.**"
      ],
      "metadata": {
        "id": "7l38Cb6U1U8B"
      }
    },
    {
      "cell_type": "code",
      "source": [
        "# Compairing call duration to find out most preffered time slot for call\n",
        "highest_call_duration=df[['Total day minutes','Total eve minutes','Total night minutes']].sum()\n",
        "highest_call_duration"
      ],
      "metadata": {
        "colab": {
          "base_uri": "https://localhost:8080/"
        },
        "id": "isB-ykzR89j7",
        "outputId": "753c04f7-9f77-4b0a-9f85-29224a789a77"
      },
      "execution_count": null,
      "outputs": [
        {
          "output_type": "execute_result",
          "data": {
            "text/plain": [
              "Total day minutes      599190.4\n",
              "Total eve minutes      669867.5\n",
              "Total night minutes    669506.5\n",
              "dtype: float64"
            ]
          },
          "metadata": {},
          "execution_count": 35
        }
      ]
    },
    {
      "cell_type": "code",
      "source": [
        "# Showing comparison of different call time slots using horizontal bars\n",
        "highest_call_duration.plot(kind='barh',color=['orange','red','purple'])\n",
        "font1 = {'family':'serif','color':'blue','size':20}\n",
        "font2 = {'family':'serif','color':'darkred','size':15}\n",
        "plt.title('Different Time Slots Vs Call Duration',fontdict=font1)\n",
        "plt.ylabel('Different Time Slots',fontdict=font2)\n",
        "plt.xlabel('Call Duration',fontdict=font2)"
      ],
      "metadata": {
        "colab": {
          "base_uri": "https://localhost:8080/",
          "height": 484
        },
        "id": "XWiNJOka9Kzk",
        "outputId": "17706c28-36e1-487f-8b8c-646adbc4cbf0"
      },
      "execution_count": null,
      "outputs": [
        {
          "output_type": "execute_result",
          "data": {
            "text/plain": [
              "Text(0.5, 0, 'Call Duration')"
            ]
          },
          "metadata": {},
          "execution_count": 36
        },
        {
          "output_type": "display_data",
          "data": {
            "image/png": "[encoded data removed]",
            "text/plain": [
              "<Figure size 720x504 with 1 Axes>"
            ]
          },
          "metadata": {
            "needs_background": "light"
          }
        }
      ]
    },
    {
      "cell_type": "markdown",
      "source": [
        "### **Most of the calls are at evening time (669867.5 min.) also the night time is nearly equal to it (669506.5 min.). But the day time calls are comparatively low (599190.4 min.) than both of these.**"
      ],
      "metadata": {
        "id": "rp7G_Q3f9N3A"
      }
    },
    {
      "cell_type": "code",
      "source": [
        "# Compairing call charges to find out most profitable time slot for call\n",
        "highest_call_charges=df[['Total day charge','Total eve charge','Total night charge']].sum()\n",
        "highest_call_charges"
      ],
      "metadata": {
        "colab": {
          "base_uri": "https://localhost:8080/"
        },
        "id": "2gYZMYLS9SMN",
        "outputId": "7bc1262e-c7eb-49bc-e807-1a327f892d75"
      },
      "execution_count": null,
      "outputs": [
        {
          "output_type": "execute_result",
          "data": {
            "text/plain": [
              "Total day charge      101864.17\n",
              "Total eve charge       56939.44\n",
              "Total night charge     30128.07\n",
              "dtype: float64"
            ]
          },
          "metadata": {},
          "execution_count": 37
        }
      ]
    },
    {
      "cell_type": "code",
      "source": [
        "# Showing comparison of different call charges using horizontal bars\n",
        "highest_call_charges.plot(kind='barh',color=['orange','red','purple'])\n",
        "font1 = {'family':'serif','color':'blue','size':20}\n",
        "font2 = {'family':'serif','color':'darkred','size':15}\n",
        "plt.title('Different Time Slots Vs Call Charges',fontdict=font1)\n",
        "plt.ylabel('Different Time Slots',fontdict=font2)\n",
        "plt.xlabel('Call Charges',fontdict=font2)"
      ],
      "metadata": {
        "colab": {
          "base_uri": "https://localhost:8080/",
          "height": 484
        },
        "id": "2hDppL0U9UaS",
        "outputId": "db6ab2d6-56ae-486a-eb60-75edd561c98d"
      },
      "execution_count": null,
      "outputs": [
        {
          "output_type": "execute_result",
          "data": {
            "text/plain": [
              "Text(0.5, 0, 'Call Charges')"
            ]
          },
          "metadata": {},
          "execution_count": 38
        },
        {
          "output_type": "display_data",
          "data": {
            "image/png": "[encoded data removed]",
            "text/plain": [
              "<Figure size 720x504 with 1 Axes>"
            ]
          },
          "metadata": {
            "needs_background": "light"
          }
        }
      ]
    },
    {
      "cell_type": "markdown",
      "source": [
        "### **Now, from this bar chart we can say that most profitable time slot for calls is day time even if the call duration of the day time calls is lower as compared to other time slots. Where the lowest profit comes through night calls even if call duration is more for that time.**"
      ],
      "metadata": {
        "id": "OjuflRHF9XgH"
      }
    },
    {
      "cell_type": "code",
      "source": [
        "# Let us find out number of customer service calls through different state\n",
        "Customer_service_calls=df.groupby('State')['Customer service calls'].sum().sort_values(ascending=False)\n",
        "Customer_service_calls"
      ],
      "metadata": {
        "colab": {
          "base_uri": "https://localhost:8080/"
        },
        "id": "nHFchfCi9YR5",
        "outputId": "c6dfe62a-f7f9-479d-a70f-180f165db09e"
      },
      "execution_count": null,
      "outputs": [
        {
          "output_type": "execute_result",
          "data": {
            "text/plain": [
              "State\n",
              "WV    159\n",
              "NY    142\n",
              "OR    135\n",
              "MN    130\n",
              "VT    127\n",
              "AL    125\n",
              "VA    123\n",
              "ID    122\n",
              "IN    120\n",
              "MD    119\n",
              "MI    119\n",
              "CO    118\n",
              "TX    116\n",
              "NJ    114\n",
              "CT    112\n",
              "WY    111\n",
              "WI    111\n",
              "MT    111\n",
              "MS    110\n",
              "AR    109\n",
              "OK    109\n",
              "ME    108\n",
              "NC    106\n",
              "OH    106\n",
              "NV    105\n",
              "GA    104\n",
              "AZ    102\n",
              "WA    101\n",
              "KY    101\n",
              "NM     99\n",
              "UT     99\n",
              "DE     99\n",
              "FL     99\n",
              "MO     98\n",
              "KS     97\n",
              "SC     95\n",
              "RI     92\n",
              "ND     90\n",
              "NE     89\n",
              "NH     85\n",
              "SD     84\n",
              "HI     82\n",
              "AK     81\n",
              "LA     80\n",
              "MA     79\n",
              "DC     73\n",
              "IA     70\n",
              "TN     70\n",
              "IL     66\n",
              "PA     57\n",
              "CA     50\n",
              "Name: Customer service calls, dtype: int64"
            ]
          },
          "metadata": {},
          "execution_count": 39
        }
      ]
    },
    {
      "cell_type": "code",
      "source": [
        "# Plotting customer service calls across all the state\n",
        "Customer_service_calls.plot(kind='bar')\n",
        "font1 = {'family':'serif','color':'blue','size':20}\n",
        "font2 = {'family':'serif','color':'darkred','size':15}\n",
        "plt.title('Number of customer service calls Vs State',fontdict=font1)\n",
        "plt.ylabel('Number of customer service calls',fontdict=font2)\n",
        "plt.xlabel('State',fontdict=font2)"
      ],
      "metadata": {
        "colab": {
          "base_uri": "https://localhost:8080/",
          "height": 491
        },
        "id": "f5dm6e7r9d_t",
        "outputId": "6f13b924-afde-4087-b325-2cd8f93fee4f"
      },
      "execution_count": null,
      "outputs": [
        {
          "output_type": "execute_result",
          "data": {
            "text/plain": [
              "Text(0.5, 0, 'State')"
            ]
          },
          "metadata": {},
          "execution_count": 40
        },
        {
          "output_type": "display_data",
          "data": {
            "image/png": "[encoded data removed]",
            "text/plain": [
              "<Figure size 720x504 with 1 Axes>"
            ]
          },
          "metadata": {
            "needs_background": "light"
          }
        }
      ]
    },
    {
      "cell_type": "markdown",
      "source": [
        "### **With the help of this figure we can conclude that West Virginia have more number of customer service calls where california have the lowest among all the states.**"
      ],
      "metadata": {
        "id": "B7BJmpqg9gvh"
      }
    },
    {
      "cell_type": "code",
      "source": [
        ""
      ],
      "metadata": {
        "id": "OOqze9CF-Jn8"
      },
      "execution_count": null,
      "outputs": []
    }
  ]
}